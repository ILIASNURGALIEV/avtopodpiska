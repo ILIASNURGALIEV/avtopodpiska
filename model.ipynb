{
 "cells": [
  {
   "cell_type": "markdown",
   "id": "3a02917c",
   "metadata": {},
   "source": [
    "# Import"
   ]
  },
  {
   "cell_type": "code",
   "execution_count": 1,
   "id": "2995322c",
   "metadata": {},
   "outputs": [],
   "source": [
    "import pandas as pd\n",
    "import pickle\n",
    "import numpy as np\n",
    "\n",
    "\n",
    "from sklearn.ensemble import RandomForestClassifier\n",
    "from sklearn.svm import SVC\n",
    "from sklearn.linear_model import LogisticRegression, LinearRegression\n",
    "from sklearn.tree import DecisionTreeClassifier\n",
    "from sklearn.neural_network import MLPClassifier\n",
    "from sklearn.metrics import accuracy_score, confusion_matrix, mean_absolute_error\n",
    "from sklearn.model_selection import train_test_split, cross_val_score, cross_validate\n",
    "from sklearn.neural_network import MLPClassifier\n",
    "from sklearn.preprocessing import OneHotEncoder\n",
    "from collections import Counter\n",
    "import matplotlib.pyplot as plt\n",
    "\n",
    "from imblearn.over_sampling import SMOTE\n",
    "from sklearn.model_selection import GridSearchCV\n",
    "from sklearn.ensemble import RandomForestClassifier\n",
    "from sklearn.metrics import roc_auc_score\n",
    "from sklearn.metrics import roc_auc_score\n",
    "from sklearn.metrics import roc_curve\n",
    "\n",
    "from sklearn.metrics import f1_score\n",
    "from sklearn.metrics import classification_report\n",
    "from sklearn.metrics import confusion_matrix\n",
    "from sklearn.metrics import precision_score, recall_score\n",
    "\n",
    "import warnings\n",
    "warnings.filterwarnings(\"ignore\")"
   ]
  },
  {
   "cell_type": "markdown",
   "id": "35012f51",
   "metadata": {},
   "source": [
    "# Загрузка данных"
   ]
  },
  {
   "cell_type": "code",
   "execution_count": 2,
   "id": "7d8735ba",
   "metadata": {},
   "outputs": [
    {
     "data": {
      "text/html": [
       "<div>\n",
       "<style scoped>\n",
       "    .dataframe tbody tr th:only-of-type {\n",
       "        vertical-align: middle;\n",
       "    }\n",
       "\n",
       "    .dataframe tbody tr th {\n",
       "        vertical-align: top;\n",
       "    }\n",
       "\n",
       "    .dataframe thead th {\n",
       "        text-align: right;\n",
       "    }\n",
       "</style>\n",
       "<table border=\"1\" class=\"dataframe\">\n",
       "  <thead>\n",
       "    <tr style=\"text-align: right;\">\n",
       "      <th></th>\n",
       "      <th>source</th>\n",
       "      <th>medium</th>\n",
       "      <th>campaign</th>\n",
       "      <th>adcontent</th>\n",
       "      <th>keyword</th>\n",
       "      <th>category</th>\n",
       "      <th>os</th>\n",
       "      <th>brand</th>\n",
       "      <th>dsr</th>\n",
       "      <th>browser</th>\n",
       "      <th>country</th>\n",
       "      <th>city</th>\n",
       "      <th>target</th>\n",
       "      <th>mobile</th>\n",
       "      <th>weekend</th>\n",
       "      <th>most_visited_city</th>\n",
       "    </tr>\n",
       "  </thead>\n",
       "  <tbody>\n",
       "    <tr>\n",
       "      <th>0</th>\n",
       "      <td>ZpYIoDJMcFzVoPFsHGJL</td>\n",
       "      <td>banner</td>\n",
       "      <td>LEoPHuyFvzoNfnzGgfcd</td>\n",
       "      <td>vCIpmpaGBnIQhyYNkXqp</td>\n",
       "      <td>puhZPIYqKXeFPaUviSjo</td>\n",
       "      <td>mobile</td>\n",
       "      <td>Android</td>\n",
       "      <td>Huawei</td>\n",
       "      <td>360x720</td>\n",
       "      <td>Chrome</td>\n",
       "      <td>Russia</td>\n",
       "      <td>Moscow</td>\n",
       "      <td>0</td>\n",
       "      <td>1</td>\n",
       "      <td>0</td>\n",
       "      <td>0</td>\n",
       "    </tr>\n",
       "    <tr>\n",
       "      <th>1</th>\n",
       "      <td>MvfHsxITijuriZxsqZqt</td>\n",
       "      <td>cpm</td>\n",
       "      <td>FTjNLDyTrXaWYgZymFkV</td>\n",
       "      <td>xhoenQgDQsgfEPYNPwKO</td>\n",
       "      <td>IGUCNvHlhfHpROGclCit</td>\n",
       "      <td>mobile</td>\n",
       "      <td>Android</td>\n",
       "      <td>Samsung</td>\n",
       "      <td>385x854</td>\n",
       "      <td>Samsung Internet</td>\n",
       "      <td>Russia</td>\n",
       "      <td>Moscow</td>\n",
       "      <td>0</td>\n",
       "      <td>1</td>\n",
       "      <td>1</td>\n",
       "      <td>1</td>\n",
       "    </tr>\n",
       "    <tr>\n",
       "      <th>2</th>\n",
       "      <td>ZpYIoDJMcFzVoPFsHGJL</td>\n",
       "      <td>banner</td>\n",
       "      <td>LEoPHuyFvzoNfnzGgfcd</td>\n",
       "      <td>vCIpmpaGBnIQhyYNkXqp</td>\n",
       "      <td>puhZPIYqKXeFPaUviSjo</td>\n",
       "      <td>mobile</td>\n",
       "      <td>Android</td>\n",
       "      <td>Huawei</td>\n",
       "      <td>360x720</td>\n",
       "      <td>Chrome</td>\n",
       "      <td>Russia</td>\n",
       "      <td>Krasnoyarsk</td>\n",
       "      <td>0</td>\n",
       "      <td>1</td>\n",
       "      <td>0</td>\n",
       "      <td>1</td>\n",
       "    </tr>\n",
       "    <tr>\n",
       "      <th>3</th>\n",
       "      <td>kjsLglQLzykiRbcDiGcD</td>\n",
       "      <td>cpc</td>\n",
       "      <td>XHNUiSKKGTEpSAlaVMFQ</td>\n",
       "      <td>JNHcPlZPxEMWDnRiyoBf</td>\n",
       "      <td>puhZPIYqKXeFPaUviSjo</td>\n",
       "      <td>mobile</td>\n",
       "      <td>Android</td>\n",
       "      <td>Xiaomi</td>\n",
       "      <td>393x786</td>\n",
       "      <td>Chrome</td>\n",
       "      <td>Russia</td>\n",
       "      <td>Moscow</td>\n",
       "      <td>0</td>\n",
       "      <td>1</td>\n",
       "      <td>1</td>\n",
       "      <td>1</td>\n",
       "    </tr>\n",
       "    <tr>\n",
       "      <th>4</th>\n",
       "      <td>kjsLglQLzykiRbcDiGcD</td>\n",
       "      <td>organic</td>\n",
       "      <td>LTuZkdKfxRGVceoWkVyg</td>\n",
       "      <td>JNHcPlZPxEMWDnRiyoBf</td>\n",
       "      <td>aXQzDWsJuGXeBXexNHjc</td>\n",
       "      <td>mobile</td>\n",
       "      <td>iOS</td>\n",
       "      <td>Apple</td>\n",
       "      <td>375x812</td>\n",
       "      <td>Safari</td>\n",
       "      <td>Russia</td>\n",
       "      <td>Saint Petersburg</td>\n",
       "      <td>0</td>\n",
       "      <td>1</td>\n",
       "      <td>0</td>\n",
       "      <td>1</td>\n",
       "    </tr>\n",
       "  </tbody>\n",
       "</table>\n",
       "</div>"
      ],
      "text/plain": [
       "                 source   medium              campaign             adcontent  \\\n",
       "0  ZpYIoDJMcFzVoPFsHGJL   banner  LEoPHuyFvzoNfnzGgfcd  vCIpmpaGBnIQhyYNkXqp   \n",
       "1  MvfHsxITijuriZxsqZqt      cpm  FTjNLDyTrXaWYgZymFkV  xhoenQgDQsgfEPYNPwKO   \n",
       "2  ZpYIoDJMcFzVoPFsHGJL   banner  LEoPHuyFvzoNfnzGgfcd  vCIpmpaGBnIQhyYNkXqp   \n",
       "3  kjsLglQLzykiRbcDiGcD      cpc  XHNUiSKKGTEpSAlaVMFQ  JNHcPlZPxEMWDnRiyoBf   \n",
       "4  kjsLglQLzykiRbcDiGcD  organic  LTuZkdKfxRGVceoWkVyg  JNHcPlZPxEMWDnRiyoBf   \n",
       "\n",
       "                keyword category       os    brand      dsr           browser  \\\n",
       "0  puhZPIYqKXeFPaUviSjo   mobile  Android   Huawei  360x720            Chrome   \n",
       "1  IGUCNvHlhfHpROGclCit   mobile  Android  Samsung  385x854  Samsung Internet   \n",
       "2  puhZPIYqKXeFPaUviSjo   mobile  Android   Huawei  360x720            Chrome   \n",
       "3  puhZPIYqKXeFPaUviSjo   mobile  Android   Xiaomi  393x786            Chrome   \n",
       "4  aXQzDWsJuGXeBXexNHjc   mobile      iOS    Apple  375x812            Safari   \n",
       "\n",
       "  country              city  target  mobile  weekend  most_visited_city  \n",
       "0  Russia            Moscow       0       1        0                  0  \n",
       "1  Russia            Moscow       0       1        1                  1  \n",
       "2  Russia       Krasnoyarsk       0       1        0                  1  \n",
       "3  Russia            Moscow       0       1        1                  1  \n",
       "4  Russia  Saint Petersburg       0       1        0                  1  "
      ]
     },
     "execution_count": 2,
     "metadata": {},
     "output_type": "execute_result"
    }
   ],
   "source": [
    "total_df = pd.read_csv('data/total_df_1.csv')\n",
    "total_df.head()"
   ]
  },
  {
   "cell_type": "code",
   "execution_count": 3,
   "id": "5e0d07bc",
   "metadata": {},
   "outputs": [],
   "source": [
    "total_df = total_df.loc[0:50000, :]"
   ]
  },
  {
   "cell_type": "markdown",
   "id": "9a40a283",
   "metadata": {},
   "source": [
    "# Преобразование категориальных признаков"
   ]
  },
  {
   "cell_type": "markdown",
   "id": "36f59d3e",
   "metadata": {},
   "source": [
    "Категориальные признаки преобразую с помощью OneHotEncoder из библиотеки sklearn"
   ]
  },
  {
   "cell_type": "code",
   "execution_count": 4,
   "id": "2543299c",
   "metadata": {},
   "outputs": [],
   "source": [
    "categorical_columns = [\"category\", \"source\", \"medium\", \"campaign\", \"adcontent\", \"keyword\", \\\n",
    "                       \"os\", \"brand\", \"dsr\", \"browser\", \"country\", \"city\"]"
   ]
  },
  {
   "cell_type": "code",
   "execution_count": 5,
   "id": "23a56e92",
   "metadata": {},
   "outputs": [
    {
     "data": {
      "text/html": [
       "<div>\n",
       "<style scoped>\n",
       "    .dataframe tbody tr th:only-of-type {\n",
       "        vertical-align: middle;\n",
       "    }\n",
       "\n",
       "    .dataframe tbody tr th {\n",
       "        vertical-align: top;\n",
       "    }\n",
       "\n",
       "    .dataframe thead th {\n",
       "        text-align: right;\n",
       "    }\n",
       "</style>\n",
       "<table border=\"1\" class=\"dataframe\">\n",
       "  <thead>\n",
       "    <tr style=\"text-align: right;\">\n",
       "      <th></th>\n",
       "      <th>category_mobile</th>\n",
       "      <th>category_tablet</th>\n",
       "      <th>source_GpAkIXsclxDGyILfNlrR</th>\n",
       "      <th>source_ISrKoXQCxqqYvAZICvjs</th>\n",
       "      <th>source_IZEXUFLARCUMynmHNBGo</th>\n",
       "      <th>source_KgicpPxiEQfzPlPwQZJq</th>\n",
       "      <th>source_MvfHsxITijuriZxsqZqt</th>\n",
       "      <th>source_PlbkrSYoHuZBWfYjYnfw</th>\n",
       "      <th>source_QxAxdyPLuQMEcrdZWdWb</th>\n",
       "      <th>source_RmEBuqrriAfAVsLQQmhk</th>\n",
       "      <th>...</th>\n",
       "      <th>city_Vyborg</th>\n",
       "      <th>city_Yakutsk</th>\n",
       "      <th>city_Yaroslavl</th>\n",
       "      <th>city_Yekaterinburg</th>\n",
       "      <th>city_Yerevan</th>\n",
       "      <th>city_Yoshkar-Ola</th>\n",
       "      <th>city_Yuzhno-Sakhalinsk</th>\n",
       "      <th>city_Zheleznodorozhny</th>\n",
       "      <th>city_Zhukovskiy</th>\n",
       "      <th>city_Zvenigorod</th>\n",
       "    </tr>\n",
       "  </thead>\n",
       "  <tbody>\n",
       "    <tr>\n",
       "      <th>0</th>\n",
       "      <td>1.0</td>\n",
       "      <td>0.0</td>\n",
       "      <td>0.0</td>\n",
       "      <td>0.0</td>\n",
       "      <td>0.0</td>\n",
       "      <td>0.0</td>\n",
       "      <td>0.0</td>\n",
       "      <td>0.0</td>\n",
       "      <td>0.0</td>\n",
       "      <td>0.0</td>\n",
       "      <td>...</td>\n",
       "      <td>0.0</td>\n",
       "      <td>0.0</td>\n",
       "      <td>0.0</td>\n",
       "      <td>0.0</td>\n",
       "      <td>0.0</td>\n",
       "      <td>0.0</td>\n",
       "      <td>0.0</td>\n",
       "      <td>0.0</td>\n",
       "      <td>0.0</td>\n",
       "      <td>0.0</td>\n",
       "    </tr>\n",
       "    <tr>\n",
       "      <th>1</th>\n",
       "      <td>1.0</td>\n",
       "      <td>0.0</td>\n",
       "      <td>0.0</td>\n",
       "      <td>0.0</td>\n",
       "      <td>0.0</td>\n",
       "      <td>0.0</td>\n",
       "      <td>1.0</td>\n",
       "      <td>0.0</td>\n",
       "      <td>0.0</td>\n",
       "      <td>0.0</td>\n",
       "      <td>...</td>\n",
       "      <td>0.0</td>\n",
       "      <td>0.0</td>\n",
       "      <td>0.0</td>\n",
       "      <td>0.0</td>\n",
       "      <td>0.0</td>\n",
       "      <td>0.0</td>\n",
       "      <td>0.0</td>\n",
       "      <td>0.0</td>\n",
       "      <td>0.0</td>\n",
       "      <td>0.0</td>\n",
       "    </tr>\n",
       "    <tr>\n",
       "      <th>2</th>\n",
       "      <td>1.0</td>\n",
       "      <td>0.0</td>\n",
       "      <td>0.0</td>\n",
       "      <td>0.0</td>\n",
       "      <td>0.0</td>\n",
       "      <td>0.0</td>\n",
       "      <td>0.0</td>\n",
       "      <td>0.0</td>\n",
       "      <td>0.0</td>\n",
       "      <td>0.0</td>\n",
       "      <td>...</td>\n",
       "      <td>0.0</td>\n",
       "      <td>0.0</td>\n",
       "      <td>0.0</td>\n",
       "      <td>0.0</td>\n",
       "      <td>0.0</td>\n",
       "      <td>0.0</td>\n",
       "      <td>0.0</td>\n",
       "      <td>0.0</td>\n",
       "      <td>0.0</td>\n",
       "      <td>0.0</td>\n",
       "    </tr>\n",
       "    <tr>\n",
       "      <th>3</th>\n",
       "      <td>1.0</td>\n",
       "      <td>0.0</td>\n",
       "      <td>0.0</td>\n",
       "      <td>0.0</td>\n",
       "      <td>0.0</td>\n",
       "      <td>0.0</td>\n",
       "      <td>0.0</td>\n",
       "      <td>0.0</td>\n",
       "      <td>0.0</td>\n",
       "      <td>0.0</td>\n",
       "      <td>...</td>\n",
       "      <td>0.0</td>\n",
       "      <td>0.0</td>\n",
       "      <td>0.0</td>\n",
       "      <td>0.0</td>\n",
       "      <td>0.0</td>\n",
       "      <td>0.0</td>\n",
       "      <td>0.0</td>\n",
       "      <td>0.0</td>\n",
       "      <td>0.0</td>\n",
       "      <td>0.0</td>\n",
       "    </tr>\n",
       "    <tr>\n",
       "      <th>4</th>\n",
       "      <td>1.0</td>\n",
       "      <td>0.0</td>\n",
       "      <td>0.0</td>\n",
       "      <td>0.0</td>\n",
       "      <td>0.0</td>\n",
       "      <td>0.0</td>\n",
       "      <td>0.0</td>\n",
       "      <td>0.0</td>\n",
       "      <td>0.0</td>\n",
       "      <td>0.0</td>\n",
       "      <td>...</td>\n",
       "      <td>0.0</td>\n",
       "      <td>0.0</td>\n",
       "      <td>0.0</td>\n",
       "      <td>0.0</td>\n",
       "      <td>0.0</td>\n",
       "      <td>0.0</td>\n",
       "      <td>0.0</td>\n",
       "      <td>0.0</td>\n",
       "      <td>0.0</td>\n",
       "      <td>0.0</td>\n",
       "    </tr>\n",
       "  </tbody>\n",
       "</table>\n",
       "<p>5 rows × 523 columns</p>\n",
       "</div>"
      ],
      "text/plain": [
       "   category_mobile  category_tablet  source_GpAkIXsclxDGyILfNlrR  \\\n",
       "0              1.0              0.0                          0.0   \n",
       "1              1.0              0.0                          0.0   \n",
       "2              1.0              0.0                          0.0   \n",
       "3              1.0              0.0                          0.0   \n",
       "4              1.0              0.0                          0.0   \n",
       "\n",
       "   source_ISrKoXQCxqqYvAZICvjs  source_IZEXUFLARCUMynmHNBGo  \\\n",
       "0                          0.0                          0.0   \n",
       "1                          0.0                          0.0   \n",
       "2                          0.0                          0.0   \n",
       "3                          0.0                          0.0   \n",
       "4                          0.0                          0.0   \n",
       "\n",
       "   source_KgicpPxiEQfzPlPwQZJq  source_MvfHsxITijuriZxsqZqt  \\\n",
       "0                          0.0                          0.0   \n",
       "1                          0.0                          1.0   \n",
       "2                          0.0                          0.0   \n",
       "3                          0.0                          0.0   \n",
       "4                          0.0                          0.0   \n",
       "\n",
       "   source_PlbkrSYoHuZBWfYjYnfw  source_QxAxdyPLuQMEcrdZWdWb  \\\n",
       "0                          0.0                          0.0   \n",
       "1                          0.0                          0.0   \n",
       "2                          0.0                          0.0   \n",
       "3                          0.0                          0.0   \n",
       "4                          0.0                          0.0   \n",
       "\n",
       "   source_RmEBuqrriAfAVsLQQmhk  ...  city_Vyborg  city_Yakutsk  \\\n",
       "0                          0.0  ...          0.0           0.0   \n",
       "1                          0.0  ...          0.0           0.0   \n",
       "2                          0.0  ...          0.0           0.0   \n",
       "3                          0.0  ...          0.0           0.0   \n",
       "4                          0.0  ...          0.0           0.0   \n",
       "\n",
       "   city_Yaroslavl  city_Yekaterinburg  city_Yerevan  city_Yoshkar-Ola  \\\n",
       "0             0.0                 0.0           0.0               0.0   \n",
       "1             0.0                 0.0           0.0               0.0   \n",
       "2             0.0                 0.0           0.0               0.0   \n",
       "3             0.0                 0.0           0.0               0.0   \n",
       "4             0.0                 0.0           0.0               0.0   \n",
       "\n",
       "   city_Yuzhno-Sakhalinsk  city_Zheleznodorozhny  city_Zhukovskiy  \\\n",
       "0                     0.0                    0.0              0.0   \n",
       "1                     0.0                    0.0              0.0   \n",
       "2                     0.0                    0.0              0.0   \n",
       "3                     0.0                    0.0              0.0   \n",
       "4                     0.0                    0.0              0.0   \n",
       "\n",
       "   city_Zvenigorod  \n",
       "0              0.0  \n",
       "1              0.0  \n",
       "2              0.0  \n",
       "3              0.0  \n",
       "4              0.0  \n",
       "\n",
       "[5 rows x 523 columns]"
      ]
     },
     "execution_count": 5,
     "metadata": {},
     "output_type": "execute_result"
    }
   ],
   "source": [
    "ohe = OneHotEncoder(sparse=False, drop='first', handle_unknown='ignore')\n",
    "\n",
    "ft = ohe.fit_transform(total_df[categorical_columns])\n",
    "df_ft = pd.DataFrame(ft, columns=ohe.get_feature_names_out())\n",
    "df_ft.head()"
   ]
  },
  {
   "cell_type": "code",
   "execution_count": 6,
   "id": "e150aae4",
   "metadata": {},
   "outputs": [
    {
     "data": {
      "text/html": [
       "<div>\n",
       "<style scoped>\n",
       "    .dataframe tbody tr th:only-of-type {\n",
       "        vertical-align: middle;\n",
       "    }\n",
       "\n",
       "    .dataframe tbody tr th {\n",
       "        vertical-align: top;\n",
       "    }\n",
       "\n",
       "    .dataframe thead th {\n",
       "        text-align: right;\n",
       "    }\n",
       "</style>\n",
       "<table border=\"1\" class=\"dataframe\">\n",
       "  <thead>\n",
       "    <tr style=\"text-align: right;\">\n",
       "      <th></th>\n",
       "      <th>target</th>\n",
       "      <th>mobile</th>\n",
       "      <th>weekend</th>\n",
       "      <th>most_visited_city</th>\n",
       "      <th>category_mobile</th>\n",
       "      <th>category_tablet</th>\n",
       "      <th>source_GpAkIXsclxDGyILfNlrR</th>\n",
       "      <th>source_ISrKoXQCxqqYvAZICvjs</th>\n",
       "      <th>source_IZEXUFLARCUMynmHNBGo</th>\n",
       "      <th>source_KgicpPxiEQfzPlPwQZJq</th>\n",
       "      <th>...</th>\n",
       "      <th>city_Vyborg</th>\n",
       "      <th>city_Yakutsk</th>\n",
       "      <th>city_Yaroslavl</th>\n",
       "      <th>city_Yekaterinburg</th>\n",
       "      <th>city_Yerevan</th>\n",
       "      <th>city_Yoshkar-Ola</th>\n",
       "      <th>city_Yuzhno-Sakhalinsk</th>\n",
       "      <th>city_Zheleznodorozhny</th>\n",
       "      <th>city_Zhukovskiy</th>\n",
       "      <th>city_Zvenigorod</th>\n",
       "    </tr>\n",
       "  </thead>\n",
       "  <tbody>\n",
       "    <tr>\n",
       "      <th>0</th>\n",
       "      <td>0</td>\n",
       "      <td>1</td>\n",
       "      <td>0</td>\n",
       "      <td>0</td>\n",
       "      <td>1.0</td>\n",
       "      <td>0.0</td>\n",
       "      <td>0.0</td>\n",
       "      <td>0.0</td>\n",
       "      <td>0.0</td>\n",
       "      <td>0.0</td>\n",
       "      <td>...</td>\n",
       "      <td>0.0</td>\n",
       "      <td>0.0</td>\n",
       "      <td>0.0</td>\n",
       "      <td>0.0</td>\n",
       "      <td>0.0</td>\n",
       "      <td>0.0</td>\n",
       "      <td>0.0</td>\n",
       "      <td>0.0</td>\n",
       "      <td>0.0</td>\n",
       "      <td>0.0</td>\n",
       "    </tr>\n",
       "    <tr>\n",
       "      <th>1</th>\n",
       "      <td>0</td>\n",
       "      <td>1</td>\n",
       "      <td>1</td>\n",
       "      <td>1</td>\n",
       "      <td>1.0</td>\n",
       "      <td>0.0</td>\n",
       "      <td>0.0</td>\n",
       "      <td>0.0</td>\n",
       "      <td>0.0</td>\n",
       "      <td>0.0</td>\n",
       "      <td>...</td>\n",
       "      <td>0.0</td>\n",
       "      <td>0.0</td>\n",
       "      <td>0.0</td>\n",
       "      <td>0.0</td>\n",
       "      <td>0.0</td>\n",
       "      <td>0.0</td>\n",
       "      <td>0.0</td>\n",
       "      <td>0.0</td>\n",
       "      <td>0.0</td>\n",
       "      <td>0.0</td>\n",
       "    </tr>\n",
       "    <tr>\n",
       "      <th>2</th>\n",
       "      <td>0</td>\n",
       "      <td>1</td>\n",
       "      <td>0</td>\n",
       "      <td>1</td>\n",
       "      <td>1.0</td>\n",
       "      <td>0.0</td>\n",
       "      <td>0.0</td>\n",
       "      <td>0.0</td>\n",
       "      <td>0.0</td>\n",
       "      <td>0.0</td>\n",
       "      <td>...</td>\n",
       "      <td>0.0</td>\n",
       "      <td>0.0</td>\n",
       "      <td>0.0</td>\n",
       "      <td>0.0</td>\n",
       "      <td>0.0</td>\n",
       "      <td>0.0</td>\n",
       "      <td>0.0</td>\n",
       "      <td>0.0</td>\n",
       "      <td>0.0</td>\n",
       "      <td>0.0</td>\n",
       "    </tr>\n",
       "    <tr>\n",
       "      <th>3</th>\n",
       "      <td>0</td>\n",
       "      <td>1</td>\n",
       "      <td>1</td>\n",
       "      <td>1</td>\n",
       "      <td>1.0</td>\n",
       "      <td>0.0</td>\n",
       "      <td>0.0</td>\n",
       "      <td>0.0</td>\n",
       "      <td>0.0</td>\n",
       "      <td>0.0</td>\n",
       "      <td>...</td>\n",
       "      <td>0.0</td>\n",
       "      <td>0.0</td>\n",
       "      <td>0.0</td>\n",
       "      <td>0.0</td>\n",
       "      <td>0.0</td>\n",
       "      <td>0.0</td>\n",
       "      <td>0.0</td>\n",
       "      <td>0.0</td>\n",
       "      <td>0.0</td>\n",
       "      <td>0.0</td>\n",
       "    </tr>\n",
       "    <tr>\n",
       "      <th>4</th>\n",
       "      <td>0</td>\n",
       "      <td>1</td>\n",
       "      <td>0</td>\n",
       "      <td>1</td>\n",
       "      <td>1.0</td>\n",
       "      <td>0.0</td>\n",
       "      <td>0.0</td>\n",
       "      <td>0.0</td>\n",
       "      <td>0.0</td>\n",
       "      <td>0.0</td>\n",
       "      <td>...</td>\n",
       "      <td>0.0</td>\n",
       "      <td>0.0</td>\n",
       "      <td>0.0</td>\n",
       "      <td>0.0</td>\n",
       "      <td>0.0</td>\n",
       "      <td>0.0</td>\n",
       "      <td>0.0</td>\n",
       "      <td>0.0</td>\n",
       "      <td>0.0</td>\n",
       "      <td>0.0</td>\n",
       "    </tr>\n",
       "  </tbody>\n",
       "</table>\n",
       "<p>5 rows × 527 columns</p>\n",
       "</div>"
      ],
      "text/plain": [
       "   target  mobile  weekend  most_visited_city  category_mobile  \\\n",
       "0       0       1        0                  0              1.0   \n",
       "1       0       1        1                  1              1.0   \n",
       "2       0       1        0                  1              1.0   \n",
       "3       0       1        1                  1              1.0   \n",
       "4       0       1        0                  1              1.0   \n",
       "\n",
       "   category_tablet  source_GpAkIXsclxDGyILfNlrR  source_ISrKoXQCxqqYvAZICvjs  \\\n",
       "0              0.0                          0.0                          0.0   \n",
       "1              0.0                          0.0                          0.0   \n",
       "2              0.0                          0.0                          0.0   \n",
       "3              0.0                          0.0                          0.0   \n",
       "4              0.0                          0.0                          0.0   \n",
       "\n",
       "   source_IZEXUFLARCUMynmHNBGo  source_KgicpPxiEQfzPlPwQZJq  ...  city_Vyborg  \\\n",
       "0                          0.0                          0.0  ...          0.0   \n",
       "1                          0.0                          0.0  ...          0.0   \n",
       "2                          0.0                          0.0  ...          0.0   \n",
       "3                          0.0                          0.0  ...          0.0   \n",
       "4                          0.0                          0.0  ...          0.0   \n",
       "\n",
       "   city_Yakutsk  city_Yaroslavl  city_Yekaterinburg  city_Yerevan  \\\n",
       "0           0.0             0.0                 0.0           0.0   \n",
       "1           0.0             0.0                 0.0           0.0   \n",
       "2           0.0             0.0                 0.0           0.0   \n",
       "3           0.0             0.0                 0.0           0.0   \n",
       "4           0.0             0.0                 0.0           0.0   \n",
       "\n",
       "   city_Yoshkar-Ola  city_Yuzhno-Sakhalinsk  city_Zheleznodorozhny  \\\n",
       "0               0.0                     0.0                    0.0   \n",
       "1               0.0                     0.0                    0.0   \n",
       "2               0.0                     0.0                    0.0   \n",
       "3               0.0                     0.0                    0.0   \n",
       "4               0.0                     0.0                    0.0   \n",
       "\n",
       "   city_Zhukovskiy  city_Zvenigorod  \n",
       "0              0.0              0.0  \n",
       "1              0.0              0.0  \n",
       "2              0.0              0.0  \n",
       "3              0.0              0.0  \n",
       "4              0.0              0.0  \n",
       "\n",
       "[5 rows x 527 columns]"
      ]
     },
     "execution_count": 6,
     "metadata": {},
     "output_type": "execute_result"
    }
   ],
   "source": [
    "transformed_df = pd.concat([total_df, df_ft], axis=1)\n",
    "transformed_df = transformed_df.drop(categorical_columns, axis=1)\n",
    "transformed_df.head()"
   ]
  },
  {
   "cell_type": "markdown",
   "id": "9a1e8380",
   "metadata": {},
   "source": [
    "# Разделение датасета на тренировочную и тестовую выборки"
   ]
  },
  {
   "cell_type": "code",
   "execution_count": 7,
   "id": "f5cddb72",
   "metadata": {},
   "outputs": [],
   "source": [
    "RANDOM_SEED = 1\n",
    "\n",
    "train_df, test_df = train_test_split(transformed_df, stratify=transformed_df['target'], test_size=0.2, random_state=RANDOM_SEED)"
   ]
  },
  {
   "cell_type": "code",
   "execution_count": 8,
   "id": "6e2476c8",
   "metadata": {},
   "outputs": [
    {
     "data": {
      "image/png": "[encoded data removed]",
      "text/plain": [
       "<Figure size 640x480 with 1 Axes>"
      ]
     },
     "metadata": {},
     "output_type": "display_data"
    }
   ],
   "source": [
    "train_df['target'].hist();"
   ]
  },
  {
   "cell_type": "markdown",
   "id": "92774533",
   "metadata": {},
   "source": [
    "Существует огромный дисбаланс в классах, количество минорного класса выровню с помощью SMOTE. "
   ]
  },
  {
   "cell_type": "code",
   "execution_count": 9,
   "id": "c8bbb173",
   "metadata": {},
   "outputs": [],
   "source": [
    "from imblearn.over_sampling import SMOTE\n",
    "\n",
    "os = SMOTE(random_state=RANDOM_SEED, k_neighbors=2)\n",
    "\n",
    "features = train_df.columns.tolist()\n",
    "target = 'target'\n",
    "\n",
    "X_train, y_train = os.fit_resample(train_df[features], train_df[target])"
   ]
  },
  {
   "cell_type": "code",
   "execution_count": 10,
   "id": "e2fc0e1f",
   "metadata": {},
   "outputs": [],
   "source": [
    "X_train = X_train.drop('target', axis=1)"
   ]
  },
  {
   "cell_type": "code",
   "execution_count": 11,
   "id": "c6e5cc6f",
   "metadata": {},
   "outputs": [
    {
     "data": {
      "text/plain": [
       "0    39880\n",
       "1    39880\n",
       "Name: target, dtype: int64"
      ]
     },
     "execution_count": 11,
     "metadata": {},
     "output_type": "execute_result"
    }
   ],
   "source": [
    "y_train.value_counts()"
   ]
  },
  {
   "cell_type": "code",
   "execution_count": 12,
   "id": "b6e5f6ef",
   "metadata": {},
   "outputs": [
    {
     "data": {
      "text/html": [
       "<div>\n",
       "<style scoped>\n",
       "    .dataframe tbody tr th:only-of-type {\n",
       "        vertical-align: middle;\n",
       "    }\n",
       "\n",
       "    .dataframe tbody tr th {\n",
       "        vertical-align: top;\n",
       "    }\n",
       "\n",
       "    .dataframe thead th {\n",
       "        text-align: right;\n",
       "    }\n",
       "</style>\n",
       "<table border=\"1\" class=\"dataframe\">\n",
       "  <thead>\n",
       "    <tr style=\"text-align: right;\">\n",
       "      <th></th>\n",
       "      <th>mobile</th>\n",
       "      <th>weekend</th>\n",
       "      <th>most_visited_city</th>\n",
       "      <th>category_mobile</th>\n",
       "      <th>category_tablet</th>\n",
       "      <th>source_GpAkIXsclxDGyILfNlrR</th>\n",
       "      <th>source_ISrKoXQCxqqYvAZICvjs</th>\n",
       "      <th>source_IZEXUFLARCUMynmHNBGo</th>\n",
       "      <th>source_KgicpPxiEQfzPlPwQZJq</th>\n",
       "      <th>source_MvfHsxITijuriZxsqZqt</th>\n",
       "      <th>...</th>\n",
       "      <th>city_Vyborg</th>\n",
       "      <th>city_Yakutsk</th>\n",
       "      <th>city_Yaroslavl</th>\n",
       "      <th>city_Yekaterinburg</th>\n",
       "      <th>city_Yerevan</th>\n",
       "      <th>city_Yoshkar-Ola</th>\n",
       "      <th>city_Yuzhno-Sakhalinsk</th>\n",
       "      <th>city_Zheleznodorozhny</th>\n",
       "      <th>city_Zhukovskiy</th>\n",
       "      <th>city_Zvenigorod</th>\n",
       "    </tr>\n",
       "  </thead>\n",
       "  <tbody>\n",
       "    <tr>\n",
       "      <th>7725</th>\n",
       "      <td>1</td>\n",
       "      <td>1</td>\n",
       "      <td>1</td>\n",
       "      <td>1.0</td>\n",
       "      <td>0.0</td>\n",
       "      <td>0.0</td>\n",
       "      <td>1.0</td>\n",
       "      <td>0.0</td>\n",
       "      <td>0.0</td>\n",
       "      <td>0.0</td>\n",
       "      <td>...</td>\n",
       "      <td>0.0</td>\n",
       "      <td>0.0</td>\n",
       "      <td>0.0</td>\n",
       "      <td>0.0</td>\n",
       "      <td>0.0</td>\n",
       "      <td>0.0</td>\n",
       "      <td>0.0</td>\n",
       "      <td>0.0</td>\n",
       "      <td>0.0</td>\n",
       "      <td>0.0</td>\n",
       "    </tr>\n",
       "    <tr>\n",
       "      <th>40663</th>\n",
       "      <td>1</td>\n",
       "      <td>0</td>\n",
       "      <td>1</td>\n",
       "      <td>1.0</td>\n",
       "      <td>0.0</td>\n",
       "      <td>0.0</td>\n",
       "      <td>0.0</td>\n",
       "      <td>0.0</td>\n",
       "      <td>0.0</td>\n",
       "      <td>0.0</td>\n",
       "      <td>...</td>\n",
       "      <td>0.0</td>\n",
       "      <td>0.0</td>\n",
       "      <td>0.0</td>\n",
       "      <td>1.0</td>\n",
       "      <td>0.0</td>\n",
       "      <td>0.0</td>\n",
       "      <td>0.0</td>\n",
       "      <td>0.0</td>\n",
       "      <td>0.0</td>\n",
       "      <td>0.0</td>\n",
       "    </tr>\n",
       "    <tr>\n",
       "      <th>13440</th>\n",
       "      <td>0</td>\n",
       "      <td>1</td>\n",
       "      <td>1</td>\n",
       "      <td>0.0</td>\n",
       "      <td>0.0</td>\n",
       "      <td>0.0</td>\n",
       "      <td>0.0</td>\n",
       "      <td>0.0</td>\n",
       "      <td>0.0</td>\n",
       "      <td>0.0</td>\n",
       "      <td>...</td>\n",
       "      <td>0.0</td>\n",
       "      <td>0.0</td>\n",
       "      <td>0.0</td>\n",
       "      <td>0.0</td>\n",
       "      <td>0.0</td>\n",
       "      <td>0.0</td>\n",
       "      <td>0.0</td>\n",
       "      <td>0.0</td>\n",
       "      <td>0.0</td>\n",
       "      <td>0.0</td>\n",
       "    </tr>\n",
       "    <tr>\n",
       "      <th>5242</th>\n",
       "      <td>1</td>\n",
       "      <td>0</td>\n",
       "      <td>1</td>\n",
       "      <td>1.0</td>\n",
       "      <td>0.0</td>\n",
       "      <td>0.0</td>\n",
       "      <td>0.0</td>\n",
       "      <td>0.0</td>\n",
       "      <td>0.0</td>\n",
       "      <td>0.0</td>\n",
       "      <td>...</td>\n",
       "      <td>0.0</td>\n",
       "      <td>0.0</td>\n",
       "      <td>0.0</td>\n",
       "      <td>0.0</td>\n",
       "      <td>0.0</td>\n",
       "      <td>0.0</td>\n",
       "      <td>0.0</td>\n",
       "      <td>0.0</td>\n",
       "      <td>0.0</td>\n",
       "      <td>0.0</td>\n",
       "    </tr>\n",
       "    <tr>\n",
       "      <th>10050</th>\n",
       "      <td>1</td>\n",
       "      <td>1</td>\n",
       "      <td>1</td>\n",
       "      <td>1.0</td>\n",
       "      <td>0.0</td>\n",
       "      <td>0.0</td>\n",
       "      <td>0.0</td>\n",
       "      <td>0.0</td>\n",
       "      <td>0.0</td>\n",
       "      <td>0.0</td>\n",
       "      <td>...</td>\n",
       "      <td>0.0</td>\n",
       "      <td>0.0</td>\n",
       "      <td>0.0</td>\n",
       "      <td>0.0</td>\n",
       "      <td>0.0</td>\n",
       "      <td>0.0</td>\n",
       "      <td>0.0</td>\n",
       "      <td>0.0</td>\n",
       "      <td>0.0</td>\n",
       "      <td>0.0</td>\n",
       "    </tr>\n",
       "  </tbody>\n",
       "</table>\n",
       "<p>5 rows × 526 columns</p>\n",
       "</div>"
      ],
      "text/plain": [
       "       mobile  weekend  most_visited_city  category_mobile  category_tablet  \\\n",
       "7725        1        1                  1              1.0              0.0   \n",
       "40663       1        0                  1              1.0              0.0   \n",
       "13440       0        1                  1              0.0              0.0   \n",
       "5242        1        0                  1              1.0              0.0   \n",
       "10050       1        1                  1              1.0              0.0   \n",
       "\n",
       "       source_GpAkIXsclxDGyILfNlrR  source_ISrKoXQCxqqYvAZICvjs  \\\n",
       "7725                           0.0                          1.0   \n",
       "40663                          0.0                          0.0   \n",
       "13440                          0.0                          0.0   \n",
       "5242                           0.0                          0.0   \n",
       "10050                          0.0                          0.0   \n",
       "\n",
       "       source_IZEXUFLARCUMynmHNBGo  source_KgicpPxiEQfzPlPwQZJq  \\\n",
       "7725                           0.0                          0.0   \n",
       "40663                          0.0                          0.0   \n",
       "13440                          0.0                          0.0   \n",
       "5242                           0.0                          0.0   \n",
       "10050                          0.0                          0.0   \n",
       "\n",
       "       source_MvfHsxITijuriZxsqZqt  ...  city_Vyborg  city_Yakutsk  \\\n",
       "7725                           0.0  ...          0.0           0.0   \n",
       "40663                          0.0  ...          0.0           0.0   \n",
       "13440                          0.0  ...          0.0           0.0   \n",
       "5242                           0.0  ...          0.0           0.0   \n",
       "10050                          0.0  ...          0.0           0.0   \n",
       "\n",
       "       city_Yaroslavl  city_Yekaterinburg  city_Yerevan  city_Yoshkar-Ola  \\\n",
       "7725              0.0                 0.0           0.0               0.0   \n",
       "40663             0.0                 1.0           0.0               0.0   \n",
       "13440             0.0                 0.0           0.0               0.0   \n",
       "5242              0.0                 0.0           0.0               0.0   \n",
       "10050             0.0                 0.0           0.0               0.0   \n",
       "\n",
       "       city_Yuzhno-Sakhalinsk  city_Zheleznodorozhny  city_Zhukovskiy  \\\n",
       "7725                      0.0                    0.0              0.0   \n",
       "40663                     0.0                    0.0              0.0   \n",
       "13440                     0.0                    0.0              0.0   \n",
       "5242                      0.0                    0.0              0.0   \n",
       "10050                     0.0                    0.0              0.0   \n",
       "\n",
       "       city_Zvenigorod  \n",
       "7725               0.0  \n",
       "40663              0.0  \n",
       "13440              0.0  \n",
       "5242               0.0  \n",
       "10050              0.0  \n",
       "\n",
       "[5 rows x 526 columns]"
      ]
     },
     "execution_count": 12,
     "metadata": {},
     "output_type": "execute_result"
    }
   ],
   "source": [
    "X_test = test_df.drop('target', axis=1)\n",
    "X_test.head()"
   ]
  },
  {
   "cell_type": "code",
   "execution_count": 13,
   "id": "6022b4d7",
   "metadata": {},
   "outputs": [
    {
     "data": {
      "text/plain": [
       "7725     0\n",
       "40663    0\n",
       "13440    0\n",
       "5242     0\n",
       "10050    0\n",
       "Name: target, dtype: int64"
      ]
     },
     "execution_count": 13,
     "metadata": {},
     "output_type": "execute_result"
    }
   ],
   "source": [
    "y_test = test_df['target']\n",
    "y_test.head()"
   ]
  },
  {
   "cell_type": "code",
   "execution_count": 14,
   "id": "92af58ee",
   "metadata": {},
   "outputs": [
    {
     "data": {
      "text/plain": [
       "0    9971\n",
       "1      30\n",
       "Name: target, dtype: int64"
      ]
     },
     "execution_count": 14,
     "metadata": {},
     "output_type": "execute_result"
    }
   ],
   "source": [
    "y_test.value_counts()"
   ]
  },
  {
   "cell_type": "markdown",
   "id": "65ddee85",
   "metadata": {},
   "source": [
    "# Моделирование"
   ]
  },
  {
   "cell_type": "markdown",
   "id": "9f6e9266",
   "metadata": {},
   "source": [
    "Моделирование проведу в два этапа. В первом этапе обучение моделей выполню с параметрами по умолчанию. Во втором этапе гиперпараметры буду менять."
   ]
  },
  {
   "cell_type": "markdown",
   "id": "3e324a94",
   "metadata": {},
   "source": [
    "### Первый этап"
   ]
  },
  {
   "cell_type": "markdown",
   "id": "5fae4123",
   "metadata": {},
   "source": [
    "#### Логистическая регрессия"
   ]
  },
  {
   "cell_type": "code",
   "execution_count": 15,
   "id": "d314ac18",
   "metadata": {},
   "outputs": [
    {
     "data": {
      "text/plain": [
       "LogisticRegression()"
      ]
     },
     "execution_count": 15,
     "metadata": {},
     "output_type": "execute_result"
    }
   ],
   "source": [
    "model_logreg = LogisticRegression()\n",
    "model_logreg.fit(X_train, y_train)"
   ]
  },
  {
   "cell_type": "code",
   "execution_count": 16,
   "id": "b28e00ee",
   "metadata": {},
   "outputs": [
    {
     "name": "stdout",
     "output_type": "stream",
     "text": [
      "              precision    recall  f1-score   support\n",
      "\n",
      "           0       1.00      0.80      0.89      9971\n",
      "           1       0.00      0.23      0.01        30\n",
      "\n",
      "    accuracy                           0.80     10001\n",
      "   macro avg       0.50      0.52      0.45     10001\n",
      "weighted avg       0.99      0.80      0.89     10001\n",
      "\n"
     ]
    }
   ],
   "source": [
    "print(classification_report(y_test, model_logreg.predict(X_test)))"
   ]
  },
  {
   "cell_type": "code",
   "execution_count": 17,
   "id": "e7a46545",
   "metadata": {},
   "outputs": [
    {
     "data": {
      "text/plain": [
       "array([[8024, 1947],\n",
       "       [  23,    7]], dtype=int64)"
      ]
     },
     "execution_count": 17,
     "metadata": {},
     "output_type": "execute_result"
    }
   ],
   "source": [
    "confusion_matrix(y_test, model_logreg.predict(X_test))"
   ]
  },
  {
   "cell_type": "code",
   "execution_count": 18,
   "id": "3d7add2a",
   "metadata": {},
   "outputs": [],
   "source": [
    "pred_lr = model_logreg.predict_proba(X_test)[:,1]"
   ]
  },
  {
   "cell_type": "code",
   "execution_count": 19,
   "id": "ea4e8d79",
   "metadata": {},
   "outputs": [
    {
     "data": {
      "text/plain": [
       "0.5600374419148866"
      ]
     },
     "execution_count": 19,
     "metadata": {},
     "output_type": "execute_result"
    }
   ],
   "source": [
    "roc_auc_score(y_test, pred_lr)"
   ]
  },
  {
   "cell_type": "code",
   "execution_count": 20,
   "id": "e4a1cf32",
   "metadata": {},
   "outputs": [
    {
     "data": {
      "text/plain": [
       "Text(0, 0.5, 'tpr')"
      ]
     },
     "execution_count": 20,
     "metadata": {},
     "output_type": "execute_result"
    },
    {
     "data": {
      "image/png": "[encoded data removed]",
      "text/plain": [
       "<Figure size 640x480 with 1 Axes>"
      ]
     },
     "metadata": {},
     "output_type": "display_data"
    }
   ],
   "source": [
    "fpr, tpr, _ = roc_curve(y_test, pred_lr)\n",
    "\n",
    "plt.plot(fpr, tpr, '-')\n",
    "plt.xlabel('fpr')\n",
    "plt.ylabel('tpr')"
   ]
  },
  {
   "cell_type": "markdown",
   "id": "0631012f",
   "metadata": {},
   "source": [
    "#### Многослойный персептрон"
   ]
  },
  {
   "cell_type": "code",
   "execution_count": 30,
   "id": "b2822d35",
   "metadata": {},
   "outputs": [],
   "source": [
    "model_mlp = MLPClassifier()\n",
    "\n",
    "model_mlp.fit(X_train, y_train)\n",
    "\n",
    "pred_mlp = model_mlp.predict_proba(X_test)[:,1]"
   ]
  },
  {
   "cell_type": "code",
   "execution_count": 31,
   "id": "c19ccdfc",
   "metadata": {},
   "outputs": [
    {
     "data": {
      "text/plain": [
       "Text(0, 0.5, 'tpr')"
      ]
     },
     "execution_count": 31,
     "metadata": {},
     "output_type": "execute_result"
    },
    {
     "data": {
      "image/png": "[encoded data removed]",
      "text/plain": [
       "<Figure size 640x480 with 1 Axes>"
      ]
     },
     "metadata": {},
     "output_type": "display_data"
    }
   ],
   "source": [
    "fpr, tpr, _ = roc_curve(y_test, pred_mlp)\n",
    "\n",
    "plt.plot(fpr, tpr, '-')\n",
    "plt.xlabel('fpr')\n",
    "plt.ylabel('tpr')"
   ]
  },
  {
   "cell_type": "code",
   "execution_count": 32,
   "id": "ed1b3162",
   "metadata": {},
   "outputs": [
    {
     "data": {
      "text/plain": [
       "0.5681910874870457"
      ]
     },
     "execution_count": 32,
     "metadata": {},
     "output_type": "execute_result"
    }
   ],
   "source": [
    "roc_auc_score(y_test, pred_mlp)"
   ]
  },
  {
   "cell_type": "code",
   "execution_count": 33,
   "id": "e2e9b918",
   "metadata": {},
   "outputs": [
    {
     "data": {
      "text/plain": [
       "array([[9743,  228],\n",
       "       [  30,    0]], dtype=int64)"
      ]
     },
     "execution_count": 33,
     "metadata": {},
     "output_type": "execute_result"
    }
   ],
   "source": [
    "confusion_matrix(y_test, model_mlp.predict(X_test))"
   ]
  },
  {
   "cell_type": "markdown",
   "id": "9094ebd4",
   "metadata": {},
   "source": [
    "#### Решающее дерево"
   ]
  },
  {
   "cell_type": "code",
   "execution_count": 35,
   "id": "3e922e95",
   "metadata": {},
   "outputs": [],
   "source": [
    "model_dtc = DecisionTreeClassifier()\n",
    "\n",
    "model_dtc.fit(X_train, y_train)\n",
    "\n",
    "pred_dtc = model_dtc.predict_proba(X_test)[:, 1]"
   ]
  },
  {
   "cell_type": "code",
   "execution_count": 36,
   "id": "04700ab7",
   "metadata": {},
   "outputs": [
    {
     "data": {
      "text/plain": [
       "Text(0, 0.5, 'tpr')"
      ]
     },
     "execution_count": 36,
     "metadata": {},
     "output_type": "execute_result"
    },
    {
     "data": {
      "image/png": "[encoded data removed]",
      "text/plain": [
       "<Figure size 640x480 with 1 Axes>"
      ]
     },
     "metadata": {},
     "output_type": "display_data"
    }
   ],
   "source": [
    "fpr, tpr, _ = roc_curve(y_test, pred_dtc)\n",
    "\n",
    "plt.plot(fpr, tpr, '-')\n",
    "plt.xlabel('fpr')\n",
    "plt.ylabel('tpr')"
   ]
  },
  {
   "cell_type": "code",
   "execution_count": 37,
   "id": "bbf7f45c",
   "metadata": {},
   "outputs": [
    {
     "data": {
      "text/plain": [
       "0.49787550563300237"
      ]
     },
     "execution_count": 37,
     "metadata": {},
     "output_type": "execute_result"
    }
   ],
   "source": [
    "roc_auc_score(y_test, pred_dtc)"
   ]
  },
  {
   "cell_type": "code",
   "execution_count": 38,
   "id": "90576991",
   "metadata": {},
   "outputs": [
    {
     "data": {
      "text/plain": [
       "array([[9818,  153],\n",
       "       [  29,    1]], dtype=int64)"
      ]
     },
     "execution_count": 38,
     "metadata": {},
     "output_type": "execute_result"
    }
   ],
   "source": [
    "confusion_matrix(y_test, model_dtc.predict(X_test))"
   ]
  },
  {
   "cell_type": "markdown",
   "id": "64f40145",
   "metadata": {},
   "source": [
    "#### Случайный лес"
   ]
  },
  {
   "cell_type": "code",
   "execution_count": 39,
   "id": "06863db7",
   "metadata": {},
   "outputs": [],
   "source": [
    "model_rf = RandomForestClassifier()\n",
    "\n",
    "model_rf.fit(X_train, y_train)\n",
    "\n",
    "pred_rf = model_rf.predict_proba(X_test)[:, 1]"
   ]
  },
  {
   "cell_type": "code",
   "execution_count": 40,
   "id": "9698d511",
   "metadata": {},
   "outputs": [
    {
     "data": {
      "text/plain": [
       "Text(0, 0.5, 'tpr')"
      ]
     },
     "execution_count": 40,
     "metadata": {},
     "output_type": "execute_result"
    },
    {
     "data": {
      "image/png": "[encoded data removed]",
      "text/plain": [
       "<Figure size 640x480 with 1 Axes>"
      ]
     },
     "metadata": {},
     "output_type": "display_data"
    }
   ],
   "source": [
    "fpr, tpr, _ = roc_curve(y_test, pred_rf)\n",
    "\n",
    "plt.plot(fpr, tpr, '-')\n",
    "plt.xlabel('fpr')\n",
    "plt.ylabel('tpr')"
   ]
  },
  {
   "cell_type": "code",
   "execution_count": 41,
   "id": "082526ce",
   "metadata": {},
   "outputs": [
    {
     "data": {
      "text/plain": [
       "0.4924347273760572"
      ]
     },
     "execution_count": 41,
     "metadata": {},
     "output_type": "execute_result"
    }
   ],
   "source": [
    "roc_auc_score(y_test, pred_rf)"
   ]
  },
  {
   "cell_type": "code",
   "execution_count": 42,
   "id": "670e2252",
   "metadata": {},
   "outputs": [
    {
     "data": {
      "text/plain": [
       "array([[9831,  140],\n",
       "       [  30,    0]], dtype=int64)"
      ]
     },
     "execution_count": 42,
     "metadata": {},
     "output_type": "execute_result"
    }
   ],
   "source": [
    "confusion_matrix(y_test, model_rf.predict(X_test))"
   ]
  },
  {
   "cell_type": "markdown",
   "id": "e95e221a",
   "metadata": {},
   "source": [
    "## Второй этап"
   ]
  },
  {
   "cell_type": "markdown",
   "id": "70ef761c",
   "metadata": {},
   "source": [
    "#### Логистическая регрессия"
   ]
  },
  {
   "cell_type": "code",
   "execution_count": 73,
   "id": "cf146ce1",
   "metadata": {},
   "outputs": [
    {
     "name": "stdout",
     "output_type": "stream",
     "text": [
      "max_recall: 0.7333333333333333\n",
      "thr: 0.005\n",
      "max_prec: 0.0033908754623921083\n"
     ]
    }
   ],
   "source": [
    "regs = []\n",
    "recalls = []\n",
    "thresholds = []\n",
    "precisions = []\n",
    "\n",
    "for reg in np.arange(0.01, 1, 0.1):\n",
    "    # для каждого значения порога переведите вероятности в классы\n",
    "    # посчитайте метрики\n",
    "    \n",
    "    # обучите логистическую регрессию с C=reg\n",
    "    model = LogisticRegression(\n",
    "        C=reg,  # Параметр регуляризации\n",
    "        random_state=42,  # Фиксируем случайность\n",
    "        )\n",
    "    model.fit(X_train, y_train)\n",
    "    \n",
    "    probs_val = model.predict_proba(X_test)[:,1]\n",
    "    \n",
    "    max_recall = -1\n",
    "    thr = -1\n",
    "    max_prec = -1\n",
    "    \n",
    "    classes = (probs_val > threshold).astype(int)\n",
    "    precision = precision_score(y_test, classes)\n",
    "    recall = recall_score(y_test, classes)\n",
    "    if (precision >= 0) and (recall >= max_recall):\n",
    "        \n",
    "        max_recall = recall\n",
    "        thr = threshold\n",
    "        max_prec = precision\n",
    "        \n",
    "    recalls.append(max_recall)\n",
    "    thresholds.append(thr)\n",
    "    precisions.append(max_prec)\n",
    "    regs.append(reg)\n",
    "\n",
    "print('max_recall:', max_recall)\n",
    "print('thr:', thr)\n",
    "print('max_prec:', max_prec)"
   ]
  },
  {
   "cell_type": "code",
   "execution_count": 74,
   "id": "fbaaf34f",
   "metadata": {},
   "outputs": [
    {
     "data": {
      "text/html": [
       "<div>\n",
       "<style scoped>\n",
       "    .dataframe tbody tr th:only-of-type {\n",
       "        vertical-align: middle;\n",
       "    }\n",
       "\n",
       "    .dataframe tbody tr th {\n",
       "        vertical-align: top;\n",
       "    }\n",
       "\n",
       "    .dataframe thead th {\n",
       "        text-align: right;\n",
       "    }\n",
       "</style>\n",
       "<table border=\"1\" class=\"dataframe\">\n",
       "  <thead>\n",
       "    <tr style=\"text-align: right;\">\n",
       "      <th></th>\n",
       "      <th>recalls</th>\n",
       "      <th>thresholds</th>\n",
       "      <th>precisions</th>\n",
       "      <th>regs</th>\n",
       "    </tr>\n",
       "  </thead>\n",
       "  <tbody>\n",
       "    <tr>\n",
       "      <th>0</th>\n",
       "      <td>1.000000</td>\n",
       "      <td>0.005</td>\n",
       "      <td>0.003006</td>\n",
       "      <td>0.01</td>\n",
       "    </tr>\n",
       "    <tr>\n",
       "      <th>1</th>\n",
       "      <td>0.900000</td>\n",
       "      <td>0.005</td>\n",
       "      <td>0.003033</td>\n",
       "      <td>0.11</td>\n",
       "    </tr>\n",
       "    <tr>\n",
       "      <th>2</th>\n",
       "      <td>0.866667</td>\n",
       "      <td>0.005</td>\n",
       "      <td>0.003135</td>\n",
       "      <td>0.21</td>\n",
       "    </tr>\n",
       "    <tr>\n",
       "      <th>3</th>\n",
       "      <td>0.866667</td>\n",
       "      <td>0.005</td>\n",
       "      <td>0.003366</td>\n",
       "      <td>0.31</td>\n",
       "    </tr>\n",
       "    <tr>\n",
       "      <th>4</th>\n",
       "      <td>0.866667</td>\n",
       "      <td>0.005</td>\n",
       "      <td>0.003528</td>\n",
       "      <td>0.41</td>\n",
       "    </tr>\n",
       "    <tr>\n",
       "      <th>5</th>\n",
       "      <td>0.866667</td>\n",
       "      <td>0.005</td>\n",
       "      <td>0.003565</td>\n",
       "      <td>0.51</td>\n",
       "    </tr>\n",
       "    <tr>\n",
       "      <th>6</th>\n",
       "      <td>0.866667</td>\n",
       "      <td>0.005</td>\n",
       "      <td>0.003752</td>\n",
       "      <td>0.61</td>\n",
       "    </tr>\n",
       "    <tr>\n",
       "      <th>7</th>\n",
       "      <td>0.866667</td>\n",
       "      <td>0.005</td>\n",
       "      <td>0.003789</td>\n",
       "      <td>0.71</td>\n",
       "    </tr>\n",
       "    <tr>\n",
       "      <th>8</th>\n",
       "      <td>0.866667</td>\n",
       "      <td>0.005</td>\n",
       "      <td>0.003892</td>\n",
       "      <td>0.81</td>\n",
       "    </tr>\n",
       "    <tr>\n",
       "      <th>9</th>\n",
       "      <td>0.733333</td>\n",
       "      <td>0.005</td>\n",
       "      <td>0.003391</td>\n",
       "      <td>0.91</td>\n",
       "    </tr>\n",
       "  </tbody>\n",
       "</table>\n",
       "</div>"
      ],
      "text/plain": [
       "    recalls  thresholds  precisions  regs\n",
       "0  1.000000       0.005    0.003006  0.01\n",
       "1  0.900000       0.005    0.003033  0.11\n",
       "2  0.866667       0.005    0.003135  0.21\n",
       "3  0.866667       0.005    0.003366  0.31\n",
       "4  0.866667       0.005    0.003528  0.41\n",
       "5  0.866667       0.005    0.003565  0.51\n",
       "6  0.866667       0.005    0.003752  0.61\n",
       "7  0.866667       0.005    0.003789  0.71\n",
       "8  0.866667       0.005    0.003892  0.81\n",
       "9  0.733333       0.005    0.003391  0.91"
      ]
     },
     "execution_count": 74,
     "metadata": {},
     "output_type": "execute_result"
    }
   ],
   "source": [
    "score_df = pd.DataFrame()\n",
    "score_df['recalls'] = recalls\n",
    "score_df['thresholds'] = thresholds\n",
    "score_df['precisions'] = precisions\n",
    "score_df['regs'] = regs\n",
    "score_df"
   ]
  },
  {
   "cell_type": "code",
   "execution_count": 75,
   "id": "b56ec86e",
   "metadata": {},
   "outputs": [
    {
     "data": {
      "text/html": [
       "<div>\n",
       "<style scoped>\n",
       "    .dataframe tbody tr th:only-of-type {\n",
       "        vertical-align: middle;\n",
       "    }\n",
       "\n",
       "    .dataframe tbody tr th {\n",
       "        vertical-align: top;\n",
       "    }\n",
       "\n",
       "    .dataframe thead th {\n",
       "        text-align: right;\n",
       "    }\n",
       "</style>\n",
       "<table border=\"1\" class=\"dataframe\">\n",
       "  <thead>\n",
       "    <tr style=\"text-align: right;\">\n",
       "      <th></th>\n",
       "      <th>recalls</th>\n",
       "      <th>thresholds</th>\n",
       "      <th>precisions</th>\n",
       "      <th>regs</th>\n",
       "    </tr>\n",
       "  </thead>\n",
       "  <tbody>\n",
       "    <tr>\n",
       "      <th>0</th>\n",
       "      <td>1.0</td>\n",
       "      <td>0.005</td>\n",
       "      <td>0.003006</td>\n",
       "      <td>0.01</td>\n",
       "    </tr>\n",
       "  </tbody>\n",
       "</table>\n",
       "</div>"
      ],
      "text/plain": [
       "   recalls  thresholds  precisions  regs\n",
       "0      1.0       0.005    0.003006  0.01"
      ]
     },
     "execution_count": 75,
     "metadata": {},
     "output_type": "execute_result"
    }
   ],
   "source": [
    "score_df[score_df['recalls'] == score_df['recalls'].max()]"
   ]
  },
  {
   "cell_type": "code",
   "execution_count": null,
   "id": "0d806b34",
   "metadata": {},
   "outputs": [],
   "source": []
  },
  {
   "cell_type": "code",
   "execution_count": 90,
   "id": "f0d6fda2",
   "metadata": {},
   "outputs": [],
   "source": [
    "model_logreg = LogisticRegression(\n",
    "        C=0.91,  # Параметр регуляризации\n",
    "        random_state=42,  # Фиксируем случайность\n",
    "        )"
   ]
  },
  {
   "cell_type": "code",
   "execution_count": 91,
   "id": "1a1090e1",
   "metadata": {},
   "outputs": [
    {
     "data": {
      "text/plain": [
       "LogisticRegression(C=0.91, random_state=42)"
      ]
     },
     "execution_count": 91,
     "metadata": {},
     "output_type": "execute_result"
    }
   ],
   "source": [
    "model_logreg.fit(X_train, y_train)"
   ]
  },
  {
   "cell_type": "code",
   "execution_count": 92,
   "id": "f496a880",
   "metadata": {},
   "outputs": [],
   "source": [
    "pred_logreg = model_logreg.predict_proba(X_test)[:,1]"
   ]
  },
  {
   "cell_type": "code",
   "execution_count": 93,
   "id": "99f92a6e",
   "metadata": {},
   "outputs": [
    {
     "data": {
      "text/plain": [
       "Text(0, 0.5, 'tpr')"
      ]
     },
     "execution_count": 93,
     "metadata": {},
     "output_type": "execute_result"
    },
    {
     "data": {
      "image/png": "[encoded data removed]",
      "text/plain": [
       "<Figure size 640x480 with 1 Axes>"
      ]
     },
     "metadata": {},
     "output_type": "display_data"
    }
   ],
   "source": [
    "fpr, tpr, _ = roc_curve(y_test, pred_logreg)\n",
    "\n",
    "plt.plot(fpr, tpr, '-')\n",
    "plt.xlabel('fpr')\n",
    "plt.ylabel('tpr')"
   ]
  },
  {
   "cell_type": "code",
   "execution_count": 94,
   "id": "94e988a3",
   "metadata": {},
   "outputs": [
    {
     "data": {
      "text/plain": [
       "0.5591649115769064"
      ]
     },
     "execution_count": 94,
     "metadata": {},
     "output_type": "execute_result"
    }
   ],
   "source": [
    "roc_auc_score(y_test, pred_logreg)"
   ]
  },
  {
   "cell_type": "code",
   "execution_count": 95,
   "id": "a6d7ed9c",
   "metadata": {},
   "outputs": [
    {
     "data": {
      "text/plain": [
       "array([[8007, 1964],\n",
       "       [  23,    7]], dtype=int64)"
      ]
     },
     "execution_count": 95,
     "metadata": {},
     "output_type": "execute_result"
    }
   ],
   "source": [
    "confusion_matrix(y_test, model_logreg.predict(X_test))"
   ]
  },
  {
   "cell_type": "code",
   "execution_count": 97,
   "id": "5550c1f9",
   "metadata": {},
   "outputs": [
    {
     "name": "stdout",
     "output_type": "stream",
     "text": [
      "              precision    recall  f1-score   support\n",
      "\n",
      "           0       1.00      0.80      0.89      9971\n",
      "           1       0.00      0.23      0.01        30\n",
      "\n",
      "    accuracy                           0.80     10001\n",
      "   macro avg       0.50      0.52      0.45     10001\n",
      "weighted avg       0.99      0.80      0.89     10001\n",
      "\n"
     ]
    }
   ],
   "source": [
    "print(classification_report(y_test, model_logreg.predict(X_test)))"
   ]
  },
  {
   "cell_type": "markdown",
   "id": "7fb26636",
   "metadata": {},
   "source": [
    "С помощью подбора гиперпараметра C не удалось улучшить качество модели."
   ]
  },
  {
   "cell_type": "markdown",
   "id": "fc7e084f",
   "metadata": {},
   "source": [
    "#### Многослойный персептрон"
   ]
  },
  {
   "cell_type": "code",
   "execution_count": 98,
   "id": "857977ff",
   "metadata": {},
   "outputs": [
    {
     "data": {
      "text/plain": [
       "GridSearchCV(cv=3, estimator=MLPClassifier(),\n",
       "             param_grid={'hidden_layer_sizes': array([75, 85, 95]),\n",
       "                         'solver': ['lbfgs']},\n",
       "             scoring='roc_auc')"
      ]
     },
     "execution_count": 98,
     "metadata": {},
     "output_type": "execute_result"
    }
   ],
   "source": [
    "params = {'solver': ['lbfgs'],\n",
    "          'hidden_layer_sizes' : np.arange(75, 100, 10)}\n",
    "\n",
    "gs = GridSearchCV(MLPClassifier(), params, cv=3, scoring='roc_auc')\n",
    "\n",
    "gs.fit(X_train, y_train)"
   ]
  },
  {
   "cell_type": "code",
   "execution_count": 52,
   "id": "770ff300",
   "metadata": {},
   "outputs": [
    {
     "name": "stdout",
     "output_type": "stream",
     "text": [
      "best score: 0.9981450731688845\n",
      "best params: {'hidden_layer_sizes': 75, 'solver': 'lbfgs'}\n"
     ]
    }
   ],
   "source": [
    "print('best score:', gs.best_score_)\n",
    "print('best params:', gs.best_params_)"
   ]
  },
  {
   "cell_type": "code",
   "execution_count": 99,
   "id": "9a39cefe",
   "metadata": {},
   "outputs": [
    {
     "data": {
      "text/plain": [
       "0.6104904222244509"
      ]
     },
     "execution_count": 99,
     "metadata": {},
     "output_type": "execute_result"
    }
   ],
   "source": [
    "model_mlp = MLPClassifier(solver='lbfgs', hidden_layer_sizes=(75,), alpha=1e-5)\n",
    "model_mlp.fit(X_train, y_train)\n",
    "pred_mlp = model_mlp.predict_proba(X_test)[:,1]\n",
    "roc_auc_mlp = roc_auc_score(y_test, pred_mlp)\n",
    "roc_auc_mlp"
   ]
  },
  {
   "cell_type": "code",
   "execution_count": 100,
   "id": "444a78c4",
   "metadata": {},
   "outputs": [
    {
     "data": {
      "text/plain": [
       "Text(0, 0.5, 'tpr')"
      ]
     },
     "execution_count": 100,
     "metadata": {},
     "output_type": "execute_result"
    },
    {
     "data": {
      "image/png": "[encoded data removed]",
      "text/plain": [
       "<Figure size 640x480 with 1 Axes>"
      ]
     },
     "metadata": {},
     "output_type": "display_data"
    }
   ],
   "source": [
    "fpr, tpr, _ = roc_curve(y_test, pred_mlp)\n",
    "\n",
    "plt.plot(fpr, tpr, '-')\n",
    "plt.xlabel('fpr')\n",
    "plt.ylabel('tpr')"
   ]
  },
  {
   "cell_type": "code",
   "execution_count": 101,
   "id": "6fdce6cf",
   "metadata": {},
   "outputs": [
    {
     "data": {
      "text/plain": [
       "array([[9761,  210],\n",
       "       [  30,    0]], dtype=int64)"
      ]
     },
     "execution_count": 101,
     "metadata": {},
     "output_type": "execute_result"
    }
   ],
   "source": [
    "confusion_matrix(y_test, model_mlp.predict(X_test))"
   ]
  },
  {
   "cell_type": "code",
   "execution_count": 102,
   "id": "0ca87537",
   "metadata": {},
   "outputs": [
    {
     "name": "stdout",
     "output_type": "stream",
     "text": [
      "              precision    recall  f1-score   support\n",
      "\n",
      "           0       1.00      0.98      0.99      9971\n",
      "           1       0.00      0.00      0.00        30\n",
      "\n",
      "    accuracy                           0.98     10001\n",
      "   macro avg       0.50      0.49      0.49     10001\n",
      "weighted avg       0.99      0.98      0.98     10001\n",
      "\n"
     ]
    }
   ],
   "source": [
    "print(classification_report(y_test, model_mlp.predict(X_test)))"
   ]
  },
  {
   "cell_type": "markdown",
   "id": "0da6e515",
   "metadata": {},
   "source": [
    "Для данной модели roc_auc > 60%. Попробую обучить на всем датасете"
   ]
  },
  {
   "cell_type": "markdown",
   "id": "1d4fa2e9",
   "metadata": {},
   "source": [
    "#### Решающее дерево"
   ]
  },
  {
   "cell_type": "code",
   "execution_count": 109,
   "id": "f8e1aada",
   "metadata": {},
   "outputs": [],
   "source": [
    "model_dtc = DecisionTreeClassifier()"
   ]
  },
  {
   "cell_type": "code",
   "execution_count": 110,
   "id": "c20e6d21",
   "metadata": {},
   "outputs": [
    {
     "name": "stdout",
     "output_type": "stream",
     "text": [
      "best score: 0.9690748917389078\n",
      "best params: {'criterion': 'gini', 'max_depth': 9}\n"
     ]
    }
   ],
   "source": [
    "params = {'max_depth' : np.arange(1, 10),\n",
    "          'criterion' : ['gini', 'entropy']}\n",
    "\n",
    "gs = GridSearchCV(model_dtc, params, cv=5, scoring='roc_auc')\n",
    "\n",
    "gs.fit(X_train, y_train)\n",
    "\n",
    "print('best score:', gs.best_score_)\n",
    "print('best params:', gs.best_params_)"
   ]
  },
  {
   "cell_type": "code",
   "execution_count": 111,
   "id": "04d32dbb",
   "metadata": {},
   "outputs": [
    {
     "data": {
      "text/plain": [
       "0.484593654932638"
      ]
     },
     "execution_count": 111,
     "metadata": {},
     "output_type": "execute_result"
    }
   ],
   "source": [
    "model_dtc = DecisionTreeClassifier(max_depth=7, criterion='entropy')\n",
    "model_dtc.fit(X_train, y_train)\n",
    "pred_dtc = model_dtc.predict_proba(X_test)[:,1]\n",
    "roc_auc_dtc = roc_auc_score(y_test, pred_dtc)\n",
    "roc_auc_dtc"
   ]
  },
  {
   "cell_type": "code",
   "execution_count": 112,
   "id": "892749f9",
   "metadata": {},
   "outputs": [
    {
     "data": {
      "text/plain": [
       "Text(0, 0.5, 'tpr')"
      ]
     },
     "execution_count": 112,
     "metadata": {},
     "output_type": "execute_result"
    },
    {
     "data": {
      "image/png": "[encoded data removed]",
      "text/plain": [
       "<Figure size 640x480 with 1 Axes>"
      ]
     },
     "metadata": {},
     "output_type": "display_data"
    }
   ],
   "source": [
    "fpr, tpr, _ = roc_curve(y_test, pred_dtc)\n",
    "\n",
    "plt.plot(fpr, tpr, '-')\n",
    "plt.xlabel('fpr')\n",
    "plt.ylabel('tpr')"
   ]
  },
  {
   "cell_type": "code",
   "execution_count": 113,
   "id": "4720bc05",
   "metadata": {},
   "outputs": [
    {
     "data": {
      "text/plain": [
       "array([[9259,  712],\n",
       "       [  29,    1]], dtype=int64)"
      ]
     },
     "execution_count": 113,
     "metadata": {},
     "output_type": "execute_result"
    }
   ],
   "source": [
    "confusion_matrix(y_test, model_dtc.predict(X_test))"
   ]
  },
  {
   "cell_type": "code",
   "execution_count": 114,
   "id": "a573678f",
   "metadata": {},
   "outputs": [
    {
     "name": "stdout",
     "output_type": "stream",
     "text": [
      "              precision    recall  f1-score   support\n",
      "\n",
      "           0       1.00      0.93      0.96      9971\n",
      "           1       0.00      0.03      0.00        30\n",
      "\n",
      "    accuracy                           0.93     10001\n",
      "   macro avg       0.50      0.48      0.48     10001\n",
      "weighted avg       0.99      0.93      0.96     10001\n",
      "\n"
     ]
    }
   ],
   "source": [
    "print(classification_report(y_test, model_dtc.predict(X_test)))"
   ]
  },
  {
   "cell_type": "markdown",
   "id": "fb2c1cc3",
   "metadata": {},
   "source": [
    "#### Деревья решений"
   ]
  },
  {
   "cell_type": "code",
   "execution_count": 15,
   "id": "f4bb4067",
   "metadata": {},
   "outputs": [
    {
     "data": {
      "text/plain": [
       "GridSearchCV(cv=3, estimator=RandomForestClassifier(),\n",
       "             param_grid={'max_depth': array([ 2,  6, 10, 14, 18, 22]),\n",
       "                         'max_features': ['sqrt', 'log2', None],\n",
       "                         'n_estimators': array([10, 30, 50, 70])},\n",
       "             scoring='roc_auc')"
      ]
     },
     "execution_count": 15,
     "metadata": {},
     "output_type": "execute_result"
    }
   ],
   "source": [
    "params = {'n_estimators': np.arange(10, 90, 20),\n",
    "          'max_depth' : np.arange(2, 25, 4),\n",
    "          'max_features' : ['sqrt', 'log2', None]}\n",
    "\n",
    "gs = GridSearchCV(RandomForestClassifier(), params, cv=3, scoring='roc_auc')\n",
    "\n",
    "gs.fit(X_train, y_train)"
   ]
  },
  {
   "cell_type": "code",
   "execution_count": 16,
   "id": "f9f9be33",
   "metadata": {},
   "outputs": [
    {
     "data": {
      "text/plain": [
       "RandomForestClassifier(max_depth=22, max_features='sqrt', n_estimators=70)"
      ]
     },
     "execution_count": 16,
     "metadata": {},
     "output_type": "execute_result"
    }
   ],
   "source": [
    "gs.best_estimator_"
   ]
  },
  {
   "cell_type": "code",
   "execution_count": 17,
   "id": "a53ef48c",
   "metadata": {},
   "outputs": [],
   "source": [
    "model_rf = RandomForestClassifier(max_depth=22, max_features='sqrt',\n",
    "                       n_estimators=70)"
   ]
  },
  {
   "cell_type": "code",
   "execution_count": 18,
   "id": "213d728a",
   "metadata": {},
   "outputs": [
    {
     "data": {
      "text/plain": [
       "RandomForestClassifier(max_depth=22, max_features='sqrt', n_estimators=70)"
      ]
     },
     "execution_count": 18,
     "metadata": {},
     "output_type": "execute_result"
    }
   ],
   "source": [
    "model_rf.fit(X_train, y_train)"
   ]
  },
  {
   "cell_type": "code",
   "execution_count": 19,
   "id": "edd3c693",
   "metadata": {},
   "outputs": [],
   "source": [
    "pred_rf = model_rf.predict_proba(X_test)[:,1]"
   ]
  },
  {
   "cell_type": "code",
   "execution_count": 20,
   "id": "9941e974",
   "metadata": {},
   "outputs": [
    {
     "data": {
      "text/plain": [
       "Text(0, 0.5, 'tpr')"
      ]
     },
     "execution_count": 20,
     "metadata": {},
     "output_type": "execute_result"
    },
    {
     "data": {
      "image/png": "[encoded data removed]",
      "text/plain": [
       "<Figure size 640x480 with 1 Axes>"
      ]
     },
     "metadata": {},
     "output_type": "display_data"
    }
   ],
   "source": [
    "fpr, tpr, _ = roc_curve(y_test, pred_rf)\n",
    "\n",
    "plt.plot(fpr, tpr, '-')\n",
    "plt.xlabel('fpr')\n",
    "plt.ylabel('tpr')"
   ]
  },
  {
   "cell_type": "code",
   "execution_count": 21,
   "id": "45f76d34",
   "metadata": {},
   "outputs": [
    {
     "data": {
      "text/plain": [
       "0.5913482432387256"
      ]
     },
     "execution_count": 21,
     "metadata": {},
     "output_type": "execute_result"
    }
   ],
   "source": [
    "roc_auc_score(y_test, pred_rf)"
   ]
  },
  {
   "cell_type": "code",
   "execution_count": 22,
   "id": "8f61647b",
   "metadata": {},
   "outputs": [
    {
     "name": "stdout",
     "output_type": "stream",
     "text": [
      "              precision    recall  f1-score   support\n",
      "\n",
      "           0       1.00      0.99      0.99      9971\n",
      "           1       0.00      0.00      0.00        30\n",
      "\n",
      "    accuracy                           0.98     10001\n",
      "   macro avg       0.50      0.49      0.50     10001\n",
      "weighted avg       0.99      0.98      0.99     10001\n",
      "\n"
     ]
    }
   ],
   "source": [
    "print(classification_report(y_test, model_rf.predict(X_test)))"
   ]
  },
  {
   "cell_type": "code",
   "execution_count": 23,
   "id": "abbf57a6",
   "metadata": {},
   "outputs": [
    {
     "data": {
      "text/plain": [
       "array([[9824,  147],\n",
       "       [  30,    0]], dtype=int64)"
      ]
     },
     "execution_count": 23,
     "metadata": {},
     "output_type": "execute_result"
    }
   ],
   "source": [
    "confusion_matrix(y_test, model_rf.predict(X_test))"
   ]
  },
  {
   "cell_type": "markdown",
   "id": "b18076aa",
   "metadata": {},
   "source": [
    "Попробую улучшить качество модели, добавив дополнительные гиперпараметры"
   ]
  },
  {
   "cell_type": "code",
   "execution_count": 25,
   "id": "c0a333ed",
   "metadata": {},
   "outputs": [
    {
     "data": {
      "text/plain": [
       "GridSearchCV(cv=3,\n",
       "             estimator=RandomForestClassifier(max_depth=22, max_features='sqrt',\n",
       "                                              n_estimators=70),\n",
       "             param_grid={'min_samples_leaf': array([ 1,  4,  7, 10, 13]),\n",
       "                         'min_samples_split': array([ 1,  4,  7, 10, 13])},\n",
       "             scoring='roc_auc')"
      ]
     },
     "execution_count": 25,
     "metadata": {},
     "output_type": "execute_result"
    }
   ],
   "source": [
    "params = {'min_samples_leaf': np.arange(1, 16, 3),\n",
    "          'min_samples_split': np.arange(1, 16, 3)\n",
    "         }\n",
    "\n",
    "gs = GridSearchCV(RandomForestClassifier(max_depth=22, max_features='sqrt',\n",
    "                       n_estimators=70), params, cv=3, scoring='roc_auc')\n",
    "\n",
    "gs.fit(X_train, y_train)"
   ]
  },
  {
   "cell_type": "code",
   "execution_count": 26,
   "id": "8dc3ebca",
   "metadata": {},
   "outputs": [
    {
     "data": {
      "text/plain": [
       "RandomForestClassifier(max_depth=22, max_features='sqrt', min_samples_split=13,\n",
       "                       n_estimators=70)"
      ]
     },
     "execution_count": 26,
     "metadata": {},
     "output_type": "execute_result"
    }
   ],
   "source": [
    "gs.best_estimator_"
   ]
  },
  {
   "cell_type": "code",
   "execution_count": 27,
   "id": "336d841d",
   "metadata": {},
   "outputs": [],
   "source": [
    "model_rf = RandomForestClassifier(max_depth=22, max_features='sqrt',\n",
    "                       n_estimators=70, min_samples_split=13)"
   ]
  },
  {
   "cell_type": "code",
   "execution_count": 28,
   "id": "fda7eab2",
   "metadata": {},
   "outputs": [
    {
     "data": {
      "text/plain": [
       "RandomForestClassifier(max_depth=22, max_features='sqrt', min_samples_split=13,\n",
       "                       n_estimators=70)"
      ]
     },
     "execution_count": 28,
     "metadata": {},
     "output_type": "execute_result"
    }
   ],
   "source": [
    "model_rf.fit(X_train, y_train)"
   ]
  },
  {
   "cell_type": "code",
   "execution_count": 29,
   "id": "82242bf7",
   "metadata": {},
   "outputs": [],
   "source": [
    "pred_rf = model_rf.predict_proba(X_test)[:,1]"
   ]
  },
  {
   "cell_type": "code",
   "execution_count": 30,
   "id": "d3947cef",
   "metadata": {},
   "outputs": [
    {
     "data": {
      "text/plain": [
       "Text(0, 0.5, 'tpr')"
      ]
     },
     "execution_count": 30,
     "metadata": {},
     "output_type": "execute_result"
    },
    {
     "data": {
      "image/png": "[encoded data removed]",
      "text/plain": [
       "<Figure size 640x480 with 1 Axes>"
      ]
     },
     "metadata": {},
     "output_type": "display_data"
    }
   ],
   "source": [
    "fpr, tpr, _ = roc_curve(y_test, pred_rf)\n",
    "\n",
    "plt.plot(fpr, tpr, '-')\n",
    "plt.xlabel('fpr')\n",
    "plt.ylabel('tpr')"
   ]
  },
  {
   "cell_type": "code",
   "execution_count": 31,
   "id": "ba0998d0",
   "metadata": {},
   "outputs": [
    {
     "data": {
      "text/plain": [
       "0.5744525791461906"
      ]
     },
     "execution_count": 31,
     "metadata": {},
     "output_type": "execute_result"
    }
   ],
   "source": [
    "roc_auc_score(y_test, pred_rf)"
   ]
  },
  {
   "cell_type": "code",
   "execution_count": 32,
   "id": "25c78bbd",
   "metadata": {},
   "outputs": [
    {
     "data": {
      "text/plain": [
       "array([[9831,  140],\n",
       "       [  30,    0]], dtype=int64)"
      ]
     },
     "execution_count": 32,
     "metadata": {},
     "output_type": "execute_result"
    }
   ],
   "source": [
    "confusion_matrix(y_test, model_rf.predict(X_test))"
   ]
  },
  {
   "cell_type": "markdown",
   "id": "2d742891",
   "metadata": {},
   "source": [
    "Обучу модели на всем датасете с подобранными гиперпарамеирами. "
   ]
  },
  {
   "cell_type": "code",
   "execution_count": 33,
   "id": "43f2087a",
   "metadata": {},
   "outputs": [
    {
     "data": {
      "text/html": [
       "<div>\n",
       "<style scoped>\n",
       "    .dataframe tbody tr th:only-of-type {\n",
       "        vertical-align: middle;\n",
       "    }\n",
       "\n",
       "    .dataframe tbody tr th {\n",
       "        vertical-align: top;\n",
       "    }\n",
       "\n",
       "    .dataframe thead th {\n",
       "        text-align: right;\n",
       "    }\n",
       "</style>\n",
       "<table border=\"1\" class=\"dataframe\">\n",
       "  <thead>\n",
       "    <tr style=\"text-align: right;\">\n",
       "      <th></th>\n",
       "      <th>source</th>\n",
       "      <th>medium</th>\n",
       "      <th>campaign</th>\n",
       "      <th>adcontent</th>\n",
       "      <th>keyword</th>\n",
       "      <th>category</th>\n",
       "      <th>os</th>\n",
       "      <th>brand</th>\n",
       "      <th>dsr</th>\n",
       "      <th>browser</th>\n",
       "      <th>country</th>\n",
       "      <th>city</th>\n",
       "      <th>target</th>\n",
       "      <th>mobile</th>\n",
       "      <th>weekend</th>\n",
       "      <th>most_visited_city</th>\n",
       "    </tr>\n",
       "  </thead>\n",
       "  <tbody>\n",
       "    <tr>\n",
       "      <th>0</th>\n",
       "      <td>ZpYIoDJMcFzVoPFsHGJL</td>\n",
       "      <td>banner</td>\n",
       "      <td>LEoPHuyFvzoNfnzGgfcd</td>\n",
       "      <td>vCIpmpaGBnIQhyYNkXqp</td>\n",
       "      <td>puhZPIYqKXeFPaUviSjo</td>\n",
       "      <td>mobile</td>\n",
       "      <td>Android</td>\n",
       "      <td>Huawei</td>\n",
       "      <td>360x720</td>\n",
       "      <td>Chrome</td>\n",
       "      <td>Russia</td>\n",
       "      <td>Moscow</td>\n",
       "      <td>0</td>\n",
       "      <td>1</td>\n",
       "      <td>0</td>\n",
       "      <td>0</td>\n",
       "    </tr>\n",
       "    <tr>\n",
       "      <th>1</th>\n",
       "      <td>MvfHsxITijuriZxsqZqt</td>\n",
       "      <td>cpm</td>\n",
       "      <td>FTjNLDyTrXaWYgZymFkV</td>\n",
       "      <td>xhoenQgDQsgfEPYNPwKO</td>\n",
       "      <td>IGUCNvHlhfHpROGclCit</td>\n",
       "      <td>mobile</td>\n",
       "      <td>Android</td>\n",
       "      <td>Samsung</td>\n",
       "      <td>385x854</td>\n",
       "      <td>Samsung Internet</td>\n",
       "      <td>Russia</td>\n",
       "      <td>Moscow</td>\n",
       "      <td>0</td>\n",
       "      <td>1</td>\n",
       "      <td>1</td>\n",
       "      <td>1</td>\n",
       "    </tr>\n",
       "    <tr>\n",
       "      <th>2</th>\n",
       "      <td>ZpYIoDJMcFzVoPFsHGJL</td>\n",
       "      <td>banner</td>\n",
       "      <td>LEoPHuyFvzoNfnzGgfcd</td>\n",
       "      <td>vCIpmpaGBnIQhyYNkXqp</td>\n",
       "      <td>puhZPIYqKXeFPaUviSjo</td>\n",
       "      <td>mobile</td>\n",
       "      <td>Android</td>\n",
       "      <td>Huawei</td>\n",
       "      <td>360x720</td>\n",
       "      <td>Chrome</td>\n",
       "      <td>Russia</td>\n",
       "      <td>Krasnoyarsk</td>\n",
       "      <td>0</td>\n",
       "      <td>1</td>\n",
       "      <td>0</td>\n",
       "      <td>1</td>\n",
       "    </tr>\n",
       "    <tr>\n",
       "      <th>3</th>\n",
       "      <td>kjsLglQLzykiRbcDiGcD</td>\n",
       "      <td>cpc</td>\n",
       "      <td>XHNUiSKKGTEpSAlaVMFQ</td>\n",
       "      <td>JNHcPlZPxEMWDnRiyoBf</td>\n",
       "      <td>puhZPIYqKXeFPaUviSjo</td>\n",
       "      <td>mobile</td>\n",
       "      <td>Android</td>\n",
       "      <td>Xiaomi</td>\n",
       "      <td>393x786</td>\n",
       "      <td>Chrome</td>\n",
       "      <td>Russia</td>\n",
       "      <td>Moscow</td>\n",
       "      <td>0</td>\n",
       "      <td>1</td>\n",
       "      <td>1</td>\n",
       "      <td>1</td>\n",
       "    </tr>\n",
       "    <tr>\n",
       "      <th>4</th>\n",
       "      <td>kjsLglQLzykiRbcDiGcD</td>\n",
       "      <td>organic</td>\n",
       "      <td>LTuZkdKfxRGVceoWkVyg</td>\n",
       "      <td>JNHcPlZPxEMWDnRiyoBf</td>\n",
       "      <td>aXQzDWsJuGXeBXexNHjc</td>\n",
       "      <td>mobile</td>\n",
       "      <td>iOS</td>\n",
       "      <td>Apple</td>\n",
       "      <td>375x812</td>\n",
       "      <td>Safari</td>\n",
       "      <td>Russia</td>\n",
       "      <td>Saint Petersburg</td>\n",
       "      <td>0</td>\n",
       "      <td>1</td>\n",
       "      <td>0</td>\n",
       "      <td>1</td>\n",
       "    </tr>\n",
       "  </tbody>\n",
       "</table>\n",
       "</div>"
      ],
      "text/plain": [
       "                 source   medium              campaign             adcontent  \\\n",
       "0  ZpYIoDJMcFzVoPFsHGJL   banner  LEoPHuyFvzoNfnzGgfcd  vCIpmpaGBnIQhyYNkXqp   \n",
       "1  MvfHsxITijuriZxsqZqt      cpm  FTjNLDyTrXaWYgZymFkV  xhoenQgDQsgfEPYNPwKO   \n",
       "2  ZpYIoDJMcFzVoPFsHGJL   banner  LEoPHuyFvzoNfnzGgfcd  vCIpmpaGBnIQhyYNkXqp   \n",
       "3  kjsLglQLzykiRbcDiGcD      cpc  XHNUiSKKGTEpSAlaVMFQ  JNHcPlZPxEMWDnRiyoBf   \n",
       "4  kjsLglQLzykiRbcDiGcD  organic  LTuZkdKfxRGVceoWkVyg  JNHcPlZPxEMWDnRiyoBf   \n",
       "\n",
       "                keyword category       os    brand      dsr           browser  \\\n",
       "0  puhZPIYqKXeFPaUviSjo   mobile  Android   Huawei  360x720            Chrome   \n",
       "1  IGUCNvHlhfHpROGclCit   mobile  Android  Samsung  385x854  Samsung Internet   \n",
       "2  puhZPIYqKXeFPaUviSjo   mobile  Android   Huawei  360x720            Chrome   \n",
       "3  puhZPIYqKXeFPaUviSjo   mobile  Android   Xiaomi  393x786            Chrome   \n",
       "4  aXQzDWsJuGXeBXexNHjc   mobile      iOS    Apple  375x812            Safari   \n",
       "\n",
       "  country              city  target  mobile  weekend  most_visited_city  \n",
       "0  Russia            Moscow       0       1        0                  0  \n",
       "1  Russia            Moscow       0       1        1                  1  \n",
       "2  Russia       Krasnoyarsk       0       1        0                  1  \n",
       "3  Russia            Moscow       0       1        1                  1  \n",
       "4  Russia  Saint Petersburg       0       1        0                  1  "
      ]
     },
     "execution_count": 33,
     "metadata": {},
     "output_type": "execute_result"
    }
   ],
   "source": [
    "total_df = pd.read_csv('data/total_df_1.csv')\n",
    "total_df.head()"
   ]
  },
  {
   "cell_type": "code",
   "execution_count": 34,
   "id": "4ded359b",
   "metadata": {},
   "outputs": [],
   "source": [
    "categorical_columns = [\"category\", \"source\", \"medium\", \"campaign\", \"adcontent\", \"keyword\", \\\n",
    "                       \"os\", \"brand\", \"dsr\", \"browser\", \"country\", \"city\"]"
   ]
  },
  {
   "cell_type": "code",
   "execution_count": 35,
   "id": "9db3cc5a",
   "metadata": {},
   "outputs": [
    {
     "data": {
      "text/html": [
       "<div>\n",
       "<style scoped>\n",
       "    .dataframe tbody tr th:only-of-type {\n",
       "        vertical-align: middle;\n",
       "    }\n",
       "\n",
       "    .dataframe tbody tr th {\n",
       "        vertical-align: top;\n",
       "    }\n",
       "\n",
       "    .dataframe thead th {\n",
       "        text-align: right;\n",
       "    }\n",
       "</style>\n",
       "<table border=\"1\" class=\"dataframe\">\n",
       "  <thead>\n",
       "    <tr style=\"text-align: right;\">\n",
       "      <th></th>\n",
       "      <th>category_mobile</th>\n",
       "      <th>category_tablet</th>\n",
       "      <th>source_GpAkIXsclxDGyILfNlrR</th>\n",
       "      <th>source_ISrKoXQCxqqYvAZICvjs</th>\n",
       "      <th>source_IZEXUFLARCUMynmHNBGo</th>\n",
       "      <th>source_KgicpPxiEQfzPlPwQZJq</th>\n",
       "      <th>source_MvfHsxITijuriZxsqZqt</th>\n",
       "      <th>source_PlbkrSYoHuZBWfYjYnfw</th>\n",
       "      <th>source_QxAxdyPLuQMEcrdZWdWb</th>\n",
       "      <th>source_RmEBuqrriAfAVsLQQmhk</th>\n",
       "      <th>...</th>\n",
       "      <th>city_Vyborg</th>\n",
       "      <th>city_Yakutsk</th>\n",
       "      <th>city_Yaroslavl</th>\n",
       "      <th>city_Yekaterinburg</th>\n",
       "      <th>city_Yerevan</th>\n",
       "      <th>city_Yoshkar-Ola</th>\n",
       "      <th>city_Yuzhno-Sakhalinsk</th>\n",
       "      <th>city_Zheleznodorozhny</th>\n",
       "      <th>city_Zhukovskiy</th>\n",
       "      <th>city_Zvenigorod</th>\n",
       "    </tr>\n",
       "  </thead>\n",
       "  <tbody>\n",
       "    <tr>\n",
       "      <th>0</th>\n",
       "      <td>1.0</td>\n",
       "      <td>0.0</td>\n",
       "      <td>0.0</td>\n",
       "      <td>0.0</td>\n",
       "      <td>0.0</td>\n",
       "      <td>0.0</td>\n",
       "      <td>0.0</td>\n",
       "      <td>0.0</td>\n",
       "      <td>0.0</td>\n",
       "      <td>0.0</td>\n",
       "      <td>...</td>\n",
       "      <td>0.0</td>\n",
       "      <td>0.0</td>\n",
       "      <td>0.0</td>\n",
       "      <td>0.0</td>\n",
       "      <td>0.0</td>\n",
       "      <td>0.0</td>\n",
       "      <td>0.0</td>\n",
       "      <td>0.0</td>\n",
       "      <td>0.0</td>\n",
       "      <td>0.0</td>\n",
       "    </tr>\n",
       "    <tr>\n",
       "      <th>1</th>\n",
       "      <td>1.0</td>\n",
       "      <td>0.0</td>\n",
       "      <td>0.0</td>\n",
       "      <td>0.0</td>\n",
       "      <td>0.0</td>\n",
       "      <td>0.0</td>\n",
       "      <td>1.0</td>\n",
       "      <td>0.0</td>\n",
       "      <td>0.0</td>\n",
       "      <td>0.0</td>\n",
       "      <td>...</td>\n",
       "      <td>0.0</td>\n",
       "      <td>0.0</td>\n",
       "      <td>0.0</td>\n",
       "      <td>0.0</td>\n",
       "      <td>0.0</td>\n",
       "      <td>0.0</td>\n",
       "      <td>0.0</td>\n",
       "      <td>0.0</td>\n",
       "      <td>0.0</td>\n",
       "      <td>0.0</td>\n",
       "    </tr>\n",
       "    <tr>\n",
       "      <th>2</th>\n",
       "      <td>1.0</td>\n",
       "      <td>0.0</td>\n",
       "      <td>0.0</td>\n",
       "      <td>0.0</td>\n",
       "      <td>0.0</td>\n",
       "      <td>0.0</td>\n",
       "      <td>0.0</td>\n",
       "      <td>0.0</td>\n",
       "      <td>0.0</td>\n",
       "      <td>0.0</td>\n",
       "      <td>...</td>\n",
       "      <td>0.0</td>\n",
       "      <td>0.0</td>\n",
       "      <td>0.0</td>\n",
       "      <td>0.0</td>\n",
       "      <td>0.0</td>\n",
       "      <td>0.0</td>\n",
       "      <td>0.0</td>\n",
       "      <td>0.0</td>\n",
       "      <td>0.0</td>\n",
       "      <td>0.0</td>\n",
       "    </tr>\n",
       "    <tr>\n",
       "      <th>3</th>\n",
       "      <td>1.0</td>\n",
       "      <td>0.0</td>\n",
       "      <td>0.0</td>\n",
       "      <td>0.0</td>\n",
       "      <td>0.0</td>\n",
       "      <td>0.0</td>\n",
       "      <td>0.0</td>\n",
       "      <td>0.0</td>\n",
       "      <td>0.0</td>\n",
       "      <td>0.0</td>\n",
       "      <td>...</td>\n",
       "      <td>0.0</td>\n",
       "      <td>0.0</td>\n",
       "      <td>0.0</td>\n",
       "      <td>0.0</td>\n",
       "      <td>0.0</td>\n",
       "      <td>0.0</td>\n",
       "      <td>0.0</td>\n",
       "      <td>0.0</td>\n",
       "      <td>0.0</td>\n",
       "      <td>0.0</td>\n",
       "    </tr>\n",
       "    <tr>\n",
       "      <th>4</th>\n",
       "      <td>1.0</td>\n",
       "      <td>0.0</td>\n",
       "      <td>0.0</td>\n",
       "      <td>0.0</td>\n",
       "      <td>0.0</td>\n",
       "      <td>0.0</td>\n",
       "      <td>0.0</td>\n",
       "      <td>0.0</td>\n",
       "      <td>0.0</td>\n",
       "      <td>0.0</td>\n",
       "      <td>...</td>\n",
       "      <td>0.0</td>\n",
       "      <td>0.0</td>\n",
       "      <td>0.0</td>\n",
       "      <td>0.0</td>\n",
       "      <td>0.0</td>\n",
       "      <td>0.0</td>\n",
       "      <td>0.0</td>\n",
       "      <td>0.0</td>\n",
       "      <td>0.0</td>\n",
       "      <td>0.0</td>\n",
       "    </tr>\n",
       "  </tbody>\n",
       "</table>\n",
       "<p>5 rows × 523 columns</p>\n",
       "</div>"
      ],
      "text/plain": [
       "   category_mobile  category_tablet  source_GpAkIXsclxDGyILfNlrR  \\\n",
       "0              1.0              0.0                          0.0   \n",
       "1              1.0              0.0                          0.0   \n",
       "2              1.0              0.0                          0.0   \n",
       "3              1.0              0.0                          0.0   \n",
       "4              1.0              0.0                          0.0   \n",
       "\n",
       "   source_ISrKoXQCxqqYvAZICvjs  source_IZEXUFLARCUMynmHNBGo  \\\n",
       "0                          0.0                          0.0   \n",
       "1                          0.0                          0.0   \n",
       "2                          0.0                          0.0   \n",
       "3                          0.0                          0.0   \n",
       "4                          0.0                          0.0   \n",
       "\n",
       "   source_KgicpPxiEQfzPlPwQZJq  source_MvfHsxITijuriZxsqZqt  \\\n",
       "0                          0.0                          0.0   \n",
       "1                          0.0                          1.0   \n",
       "2                          0.0                          0.0   \n",
       "3                          0.0                          0.0   \n",
       "4                          0.0                          0.0   \n",
       "\n",
       "   source_PlbkrSYoHuZBWfYjYnfw  source_QxAxdyPLuQMEcrdZWdWb  \\\n",
       "0                          0.0                          0.0   \n",
       "1                          0.0                          0.0   \n",
       "2                          0.0                          0.0   \n",
       "3                          0.0                          0.0   \n",
       "4                          0.0                          0.0   \n",
       "\n",
       "   source_RmEBuqrriAfAVsLQQmhk  ...  city_Vyborg  city_Yakutsk  \\\n",
       "0                          0.0  ...          0.0           0.0   \n",
       "1                          0.0  ...          0.0           0.0   \n",
       "2                          0.0  ...          0.0           0.0   \n",
       "3                          0.0  ...          0.0           0.0   \n",
       "4                          0.0  ...          0.0           0.0   \n",
       "\n",
       "   city_Yaroslavl  city_Yekaterinburg  city_Yerevan  city_Yoshkar-Ola  \\\n",
       "0             0.0                 0.0           0.0               0.0   \n",
       "1             0.0                 0.0           0.0               0.0   \n",
       "2             0.0                 0.0           0.0               0.0   \n",
       "3             0.0                 0.0           0.0               0.0   \n",
       "4             0.0                 0.0           0.0               0.0   \n",
       "\n",
       "   city_Yuzhno-Sakhalinsk  city_Zheleznodorozhny  city_Zhukovskiy  \\\n",
       "0                     0.0                    0.0              0.0   \n",
       "1                     0.0                    0.0              0.0   \n",
       "2                     0.0                    0.0              0.0   \n",
       "3                     0.0                    0.0              0.0   \n",
       "4                     0.0                    0.0              0.0   \n",
       "\n",
       "   city_Zvenigorod  \n",
       "0              0.0  \n",
       "1              0.0  \n",
       "2              0.0  \n",
       "3              0.0  \n",
       "4              0.0  \n",
       "\n",
       "[5 rows x 523 columns]"
      ]
     },
     "execution_count": 35,
     "metadata": {},
     "output_type": "execute_result"
    }
   ],
   "source": [
    "ohe = OneHotEncoder(sparse=False, drop='first', handle_unknown='ignore')\n",
    "\n",
    "ft = ohe.fit_transform(total_df[categorical_columns])\n",
    "df_ft = pd.DataFrame(ft, columns=ohe.get_feature_names_out())\n",
    "df_ft.head()"
   ]
  },
  {
   "cell_type": "code",
   "execution_count": 36,
   "id": "d3b4d483",
   "metadata": {},
   "outputs": [
    {
     "data": {
      "text/html": [
       "<div>\n",
       "<style scoped>\n",
       "    .dataframe tbody tr th:only-of-type {\n",
       "        vertical-align: middle;\n",
       "    }\n",
       "\n",
       "    .dataframe tbody tr th {\n",
       "        vertical-align: top;\n",
       "    }\n",
       "\n",
       "    .dataframe thead th {\n",
       "        text-align: right;\n",
       "    }\n",
       "</style>\n",
       "<table border=\"1\" class=\"dataframe\">\n",
       "  <thead>\n",
       "    <tr style=\"text-align: right;\">\n",
       "      <th></th>\n",
       "      <th>target</th>\n",
       "      <th>mobile</th>\n",
       "      <th>weekend</th>\n",
       "      <th>most_visited_city</th>\n",
       "      <th>category_mobile</th>\n",
       "      <th>category_tablet</th>\n",
       "      <th>source_GpAkIXsclxDGyILfNlrR</th>\n",
       "      <th>source_ISrKoXQCxqqYvAZICvjs</th>\n",
       "      <th>source_IZEXUFLARCUMynmHNBGo</th>\n",
       "      <th>source_KgicpPxiEQfzPlPwQZJq</th>\n",
       "      <th>...</th>\n",
       "      <th>city_Vyborg</th>\n",
       "      <th>city_Yakutsk</th>\n",
       "      <th>city_Yaroslavl</th>\n",
       "      <th>city_Yekaterinburg</th>\n",
       "      <th>city_Yerevan</th>\n",
       "      <th>city_Yoshkar-Ola</th>\n",
       "      <th>city_Yuzhno-Sakhalinsk</th>\n",
       "      <th>city_Zheleznodorozhny</th>\n",
       "      <th>city_Zhukovskiy</th>\n",
       "      <th>city_Zvenigorod</th>\n",
       "    </tr>\n",
       "  </thead>\n",
       "  <tbody>\n",
       "    <tr>\n",
       "      <th>0</th>\n",
       "      <td>0</td>\n",
       "      <td>1</td>\n",
       "      <td>0</td>\n",
       "      <td>0</td>\n",
       "      <td>1.0</td>\n",
       "      <td>0.0</td>\n",
       "      <td>0.0</td>\n",
       "      <td>0.0</td>\n",
       "      <td>0.0</td>\n",
       "      <td>0.0</td>\n",
       "      <td>...</td>\n",
       "      <td>0.0</td>\n",
       "      <td>0.0</td>\n",
       "      <td>0.0</td>\n",
       "      <td>0.0</td>\n",
       "      <td>0.0</td>\n",
       "      <td>0.0</td>\n",
       "      <td>0.0</td>\n",
       "      <td>0.0</td>\n",
       "      <td>0.0</td>\n",
       "      <td>0.0</td>\n",
       "    </tr>\n",
       "    <tr>\n",
       "      <th>1</th>\n",
       "      <td>0</td>\n",
       "      <td>1</td>\n",
       "      <td>1</td>\n",
       "      <td>1</td>\n",
       "      <td>1.0</td>\n",
       "      <td>0.0</td>\n",
       "      <td>0.0</td>\n",
       "      <td>0.0</td>\n",
       "      <td>0.0</td>\n",
       "      <td>0.0</td>\n",
       "      <td>...</td>\n",
       "      <td>0.0</td>\n",
       "      <td>0.0</td>\n",
       "      <td>0.0</td>\n",
       "      <td>0.0</td>\n",
       "      <td>0.0</td>\n",
       "      <td>0.0</td>\n",
       "      <td>0.0</td>\n",
       "      <td>0.0</td>\n",
       "      <td>0.0</td>\n",
       "      <td>0.0</td>\n",
       "    </tr>\n",
       "    <tr>\n",
       "      <th>2</th>\n",
       "      <td>0</td>\n",
       "      <td>1</td>\n",
       "      <td>0</td>\n",
       "      <td>1</td>\n",
       "      <td>1.0</td>\n",
       "      <td>0.0</td>\n",
       "      <td>0.0</td>\n",
       "      <td>0.0</td>\n",
       "      <td>0.0</td>\n",
       "      <td>0.0</td>\n",
       "      <td>...</td>\n",
       "      <td>0.0</td>\n",
       "      <td>0.0</td>\n",
       "      <td>0.0</td>\n",
       "      <td>0.0</td>\n",
       "      <td>0.0</td>\n",
       "      <td>0.0</td>\n",
       "      <td>0.0</td>\n",
       "      <td>0.0</td>\n",
       "      <td>0.0</td>\n",
       "      <td>0.0</td>\n",
       "    </tr>\n",
       "    <tr>\n",
       "      <th>3</th>\n",
       "      <td>0</td>\n",
       "      <td>1</td>\n",
       "      <td>1</td>\n",
       "      <td>1</td>\n",
       "      <td>1.0</td>\n",
       "      <td>0.0</td>\n",
       "      <td>0.0</td>\n",
       "      <td>0.0</td>\n",
       "      <td>0.0</td>\n",
       "      <td>0.0</td>\n",
       "      <td>...</td>\n",
       "      <td>0.0</td>\n",
       "      <td>0.0</td>\n",
       "      <td>0.0</td>\n",
       "      <td>0.0</td>\n",
       "      <td>0.0</td>\n",
       "      <td>0.0</td>\n",
       "      <td>0.0</td>\n",
       "      <td>0.0</td>\n",
       "      <td>0.0</td>\n",
       "      <td>0.0</td>\n",
       "    </tr>\n",
       "    <tr>\n",
       "      <th>4</th>\n",
       "      <td>0</td>\n",
       "      <td>1</td>\n",
       "      <td>0</td>\n",
       "      <td>1</td>\n",
       "      <td>1.0</td>\n",
       "      <td>0.0</td>\n",
       "      <td>0.0</td>\n",
       "      <td>0.0</td>\n",
       "      <td>0.0</td>\n",
       "      <td>0.0</td>\n",
       "      <td>...</td>\n",
       "      <td>0.0</td>\n",
       "      <td>0.0</td>\n",
       "      <td>0.0</td>\n",
       "      <td>0.0</td>\n",
       "      <td>0.0</td>\n",
       "      <td>0.0</td>\n",
       "      <td>0.0</td>\n",
       "      <td>0.0</td>\n",
       "      <td>0.0</td>\n",
       "      <td>0.0</td>\n",
       "    </tr>\n",
       "  </tbody>\n",
       "</table>\n",
       "<p>5 rows × 527 columns</p>\n",
       "</div>"
      ],
      "text/plain": [
       "   target  mobile  weekend  most_visited_city  category_mobile  \\\n",
       "0       0       1        0                  0              1.0   \n",
       "1       0       1        1                  1              1.0   \n",
       "2       0       1        0                  1              1.0   \n",
       "3       0       1        1                  1              1.0   \n",
       "4       0       1        0                  1              1.0   \n",
       "\n",
       "   category_tablet  source_GpAkIXsclxDGyILfNlrR  source_ISrKoXQCxqqYvAZICvjs  \\\n",
       "0              0.0                          0.0                          0.0   \n",
       "1              0.0                          0.0                          0.0   \n",
       "2              0.0                          0.0                          0.0   \n",
       "3              0.0                          0.0                          0.0   \n",
       "4              0.0                          0.0                          0.0   \n",
       "\n",
       "   source_IZEXUFLARCUMynmHNBGo  source_KgicpPxiEQfzPlPwQZJq  ...  city_Vyborg  \\\n",
       "0                          0.0                          0.0  ...          0.0   \n",
       "1                          0.0                          0.0  ...          0.0   \n",
       "2                          0.0                          0.0  ...          0.0   \n",
       "3                          0.0                          0.0  ...          0.0   \n",
       "4                          0.0                          0.0  ...          0.0   \n",
       "\n",
       "   city_Yakutsk  city_Yaroslavl  city_Yekaterinburg  city_Yerevan  \\\n",
       "0           0.0             0.0                 0.0           0.0   \n",
       "1           0.0             0.0                 0.0           0.0   \n",
       "2           0.0             0.0                 0.0           0.0   \n",
       "3           0.0             0.0                 0.0           0.0   \n",
       "4           0.0             0.0                 0.0           0.0   \n",
       "\n",
       "   city_Yoshkar-Ola  city_Yuzhno-Sakhalinsk  city_Zheleznodorozhny  \\\n",
       "0               0.0                     0.0                    0.0   \n",
       "1               0.0                     0.0                    0.0   \n",
       "2               0.0                     0.0                    0.0   \n",
       "3               0.0                     0.0                    0.0   \n",
       "4               0.0                     0.0                    0.0   \n",
       "\n",
       "   city_Zhukovskiy  city_Zvenigorod  \n",
       "0              0.0              0.0  \n",
       "1              0.0              0.0  \n",
       "2              0.0              0.0  \n",
       "3              0.0              0.0  \n",
       "4              0.0              0.0  \n",
       "\n",
       "[5 rows x 527 columns]"
      ]
     },
     "execution_count": 36,
     "metadata": {},
     "output_type": "execute_result"
    }
   ],
   "source": [
    "transformed_df = pd.concat([total_df, df_ft], axis=1)\n",
    "transformed_df = transformed_df.drop(categorical_columns, axis=1)\n",
    "transformed_df.head()"
   ]
  },
  {
   "cell_type": "code",
   "execution_count": 37,
   "id": "39d7309a",
   "metadata": {},
   "outputs": [],
   "source": [
    "RANDOM_SEED = 1\n",
    "\n",
    "train_df, test_df = train_test_split(transformed_df, stratify=transformed_df['target'], test_size=0.2, random_state=RANDOM_SEED)"
   ]
  },
  {
   "cell_type": "code",
   "execution_count": 38,
   "id": "5e138565",
   "metadata": {},
   "outputs": [],
   "source": [
    "from imblearn.over_sampling import SMOTE\n",
    "\n",
    "os = SMOTE(random_state=RANDOM_SEED, k_neighbors=2)\n",
    "\n",
    "\n",
    "features = train_df.columns.tolist()\n",
    "target = 'target'\n",
    "\n",
    "X_train, y_train = os.fit_resample(train_df[features], train_df[target])"
   ]
  },
  {
   "cell_type": "code",
   "execution_count": 39,
   "id": "d9c5bc23",
   "metadata": {},
   "outputs": [],
   "source": [
    "X_train = X_train.drop('target', axis=1)"
   ]
  },
  {
   "cell_type": "code",
   "execution_count": 40,
   "id": "4de3bd74",
   "metadata": {},
   "outputs": [
    {
     "data": {
      "text/plain": [
       "0    1304623\n",
       "1    1304623\n",
       "Name: target, dtype: int64"
      ]
     },
     "execution_count": 40,
     "metadata": {},
     "output_type": "execute_result"
    }
   ],
   "source": [
    "y_train.value_counts()"
   ]
  },
  {
   "cell_type": "code",
   "execution_count": 41,
   "id": "776e4468",
   "metadata": {},
   "outputs": [
    {
     "data": {
      "text/html": [
       "<div>\n",
       "<style scoped>\n",
       "    .dataframe tbody tr th:only-of-type {\n",
       "        vertical-align: middle;\n",
       "    }\n",
       "\n",
       "    .dataframe tbody tr th {\n",
       "        vertical-align: top;\n",
       "    }\n",
       "\n",
       "    .dataframe thead th {\n",
       "        text-align: right;\n",
       "    }\n",
       "</style>\n",
       "<table border=\"1\" class=\"dataframe\">\n",
       "  <thead>\n",
       "    <tr style=\"text-align: right;\">\n",
       "      <th></th>\n",
       "      <th>mobile</th>\n",
       "      <th>weekend</th>\n",
       "      <th>most_visited_city</th>\n",
       "      <th>category_mobile</th>\n",
       "      <th>category_tablet</th>\n",
       "      <th>source_GpAkIXsclxDGyILfNlrR</th>\n",
       "      <th>source_ISrKoXQCxqqYvAZICvjs</th>\n",
       "      <th>source_IZEXUFLARCUMynmHNBGo</th>\n",
       "      <th>source_KgicpPxiEQfzPlPwQZJq</th>\n",
       "      <th>source_MvfHsxITijuriZxsqZqt</th>\n",
       "      <th>...</th>\n",
       "      <th>city_Vyborg</th>\n",
       "      <th>city_Yakutsk</th>\n",
       "      <th>city_Yaroslavl</th>\n",
       "      <th>city_Yekaterinburg</th>\n",
       "      <th>city_Yerevan</th>\n",
       "      <th>city_Yoshkar-Ola</th>\n",
       "      <th>city_Yuzhno-Sakhalinsk</th>\n",
       "      <th>city_Zheleznodorozhny</th>\n",
       "      <th>city_Zhukovskiy</th>\n",
       "      <th>city_Zvenigorod</th>\n",
       "    </tr>\n",
       "  </thead>\n",
       "  <tbody>\n",
       "    <tr>\n",
       "      <th>1576591</th>\n",
       "      <td>1</td>\n",
       "      <td>0</td>\n",
       "      <td>1</td>\n",
       "      <td>1.0</td>\n",
       "      <td>0.0</td>\n",
       "      <td>0.0</td>\n",
       "      <td>0.0</td>\n",
       "      <td>0.0</td>\n",
       "      <td>0.0</td>\n",
       "      <td>0.0</td>\n",
       "      <td>...</td>\n",
       "      <td>0.0</td>\n",
       "      <td>0.0</td>\n",
       "      <td>0.0</td>\n",
       "      <td>0.0</td>\n",
       "      <td>0.0</td>\n",
       "      <td>0.0</td>\n",
       "      <td>0.0</td>\n",
       "      <td>0.0</td>\n",
       "      <td>0.0</td>\n",
       "      <td>0.0</td>\n",
       "    </tr>\n",
       "    <tr>\n",
       "      <th>1563769</th>\n",
       "      <td>1</td>\n",
       "      <td>0</td>\n",
       "      <td>1</td>\n",
       "      <td>1.0</td>\n",
       "      <td>0.0</td>\n",
       "      <td>0.0</td>\n",
       "      <td>0.0</td>\n",
       "      <td>0.0</td>\n",
       "      <td>0.0</td>\n",
       "      <td>0.0</td>\n",
       "      <td>...</td>\n",
       "      <td>0.0</td>\n",
       "      <td>0.0</td>\n",
       "      <td>0.0</td>\n",
       "      <td>1.0</td>\n",
       "      <td>0.0</td>\n",
       "      <td>0.0</td>\n",
       "      <td>0.0</td>\n",
       "      <td>0.0</td>\n",
       "      <td>0.0</td>\n",
       "      <td>0.0</td>\n",
       "    </tr>\n",
       "    <tr>\n",
       "      <th>1495904</th>\n",
       "      <td>0</td>\n",
       "      <td>0</td>\n",
       "      <td>1</td>\n",
       "      <td>0.0</td>\n",
       "      <td>0.0</td>\n",
       "      <td>0.0</td>\n",
       "      <td>0.0</td>\n",
       "      <td>0.0</td>\n",
       "      <td>0.0</td>\n",
       "      <td>0.0</td>\n",
       "      <td>...</td>\n",
       "      <td>0.0</td>\n",
       "      <td>0.0</td>\n",
       "      <td>0.0</td>\n",
       "      <td>0.0</td>\n",
       "      <td>0.0</td>\n",
       "      <td>0.0</td>\n",
       "      <td>0.0</td>\n",
       "      <td>0.0</td>\n",
       "      <td>0.0</td>\n",
       "      <td>0.0</td>\n",
       "    </tr>\n",
       "    <tr>\n",
       "      <th>1478832</th>\n",
       "      <td>0</td>\n",
       "      <td>0</td>\n",
       "      <td>1</td>\n",
       "      <td>0.0</td>\n",
       "      <td>0.0</td>\n",
       "      <td>0.0</td>\n",
       "      <td>0.0</td>\n",
       "      <td>0.0</td>\n",
       "      <td>0.0</td>\n",
       "      <td>0.0</td>\n",
       "      <td>...</td>\n",
       "      <td>0.0</td>\n",
       "      <td>0.0</td>\n",
       "      <td>0.0</td>\n",
       "      <td>0.0</td>\n",
       "      <td>0.0</td>\n",
       "      <td>0.0</td>\n",
       "      <td>0.0</td>\n",
       "      <td>1.0</td>\n",
       "      <td>0.0</td>\n",
       "      <td>0.0</td>\n",
       "    </tr>\n",
       "    <tr>\n",
       "      <th>284277</th>\n",
       "      <td>1</td>\n",
       "      <td>0</td>\n",
       "      <td>1</td>\n",
       "      <td>1.0</td>\n",
       "      <td>0.0</td>\n",
       "      <td>0.0</td>\n",
       "      <td>0.0</td>\n",
       "      <td>0.0</td>\n",
       "      <td>0.0</td>\n",
       "      <td>1.0</td>\n",
       "      <td>...</td>\n",
       "      <td>0.0</td>\n",
       "      <td>0.0</td>\n",
       "      <td>0.0</td>\n",
       "      <td>0.0</td>\n",
       "      <td>0.0</td>\n",
       "      <td>0.0</td>\n",
       "      <td>0.0</td>\n",
       "      <td>0.0</td>\n",
       "      <td>0.0</td>\n",
       "      <td>0.0</td>\n",
       "    </tr>\n",
       "  </tbody>\n",
       "</table>\n",
       "<p>5 rows × 526 columns</p>\n",
       "</div>"
      ],
      "text/plain": [
       "         mobile  weekend  most_visited_city  category_mobile  category_tablet  \\\n",
       "1576591       1        0                  1              1.0              0.0   \n",
       "1563769       1        0                  1              1.0              0.0   \n",
       "1495904       0        0                  1              0.0              0.0   \n",
       "1478832       0        0                  1              0.0              0.0   \n",
       "284277        1        0                  1              1.0              0.0   \n",
       "\n",
       "         source_GpAkIXsclxDGyILfNlrR  source_ISrKoXQCxqqYvAZICvjs  \\\n",
       "1576591                          0.0                          0.0   \n",
       "1563769                          0.0                          0.0   \n",
       "1495904                          0.0                          0.0   \n",
       "1478832                          0.0                          0.0   \n",
       "284277                           0.0                          0.0   \n",
       "\n",
       "         source_IZEXUFLARCUMynmHNBGo  source_KgicpPxiEQfzPlPwQZJq  \\\n",
       "1576591                          0.0                          0.0   \n",
       "1563769                          0.0                          0.0   \n",
       "1495904                          0.0                          0.0   \n",
       "1478832                          0.0                          0.0   \n",
       "284277                           0.0                          0.0   \n",
       "\n",
       "         source_MvfHsxITijuriZxsqZqt  ...  city_Vyborg  city_Yakutsk  \\\n",
       "1576591                          0.0  ...          0.0           0.0   \n",
       "1563769                          0.0  ...          0.0           0.0   \n",
       "1495904                          0.0  ...          0.0           0.0   \n",
       "1478832                          0.0  ...          0.0           0.0   \n",
       "284277                           1.0  ...          0.0           0.0   \n",
       "\n",
       "         city_Yaroslavl  city_Yekaterinburg  city_Yerevan  city_Yoshkar-Ola  \\\n",
       "1576591             0.0                 0.0           0.0               0.0   \n",
       "1563769             0.0                 1.0           0.0               0.0   \n",
       "1495904             0.0                 0.0           0.0               0.0   \n",
       "1478832             0.0                 0.0           0.0               0.0   \n",
       "284277              0.0                 0.0           0.0               0.0   \n",
       "\n",
       "         city_Yuzhno-Sakhalinsk  city_Zheleznodorozhny  city_Zhukovskiy  \\\n",
       "1576591                     0.0                    0.0              0.0   \n",
       "1563769                     0.0                    0.0              0.0   \n",
       "1495904                     0.0                    0.0              0.0   \n",
       "1478832                     0.0                    1.0              0.0   \n",
       "284277                      0.0                    0.0              0.0   \n",
       "\n",
       "         city_Zvenigorod  \n",
       "1576591              0.0  \n",
       "1563769              0.0  \n",
       "1495904              0.0  \n",
       "1478832              0.0  \n",
       "284277               0.0  \n",
       "\n",
       "[5 rows x 526 columns]"
      ]
     },
     "execution_count": 41,
     "metadata": {},
     "output_type": "execute_result"
    }
   ],
   "source": [
    "X_test = test_df.drop('target', axis=1)\n",
    "X_test.head()"
   ]
  },
  {
   "cell_type": "code",
   "execution_count": 42,
   "id": "31bdd338",
   "metadata": {},
   "outputs": [],
   "source": [
    "y_test = test_df['target']"
   ]
  },
  {
   "cell_type": "code",
   "execution_count": 43,
   "id": "b44cc2ac",
   "metadata": {},
   "outputs": [
    {
     "data": {
      "text/plain": [
       "0    326156\n",
       "1       930\n",
       "Name: target, dtype: int64"
      ]
     },
     "execution_count": 43,
     "metadata": {},
     "output_type": "execute_result"
    }
   ],
   "source": [
    "y_test.value_counts()"
   ]
  },
  {
   "cell_type": "markdown",
   "id": "d18c888e",
   "metadata": {},
   "source": [
    "#### Логистическая регрессия"
   ]
  },
  {
   "cell_type": "code",
   "execution_count": 55,
   "id": "5c2746c8",
   "metadata": {},
   "outputs": [
    {
     "data": {
      "text/plain": [
       "LogisticRegression()"
      ]
     },
     "execution_count": 55,
     "metadata": {},
     "output_type": "execute_result"
    }
   ],
   "source": [
    "model_logreg = LogisticRegression()\n",
    "model_logreg.fit(X_train, y_train)"
   ]
  },
  {
   "cell_type": "code",
   "execution_count": 56,
   "id": "926a9f25",
   "metadata": {},
   "outputs": [
    {
     "name": "stdout",
     "output_type": "stream",
     "text": [
      "              precision    recall  f1-score   support\n",
      "\n",
      "           0       1.00      0.61      0.75    326156\n",
      "           1       0.00      0.56      0.01       930\n",
      "\n",
      "    accuracy                           0.61    327086\n",
      "   macro avg       0.50      0.58      0.38    327086\n",
      "weighted avg       1.00      0.61      0.75    327086\n",
      "\n"
     ]
    }
   ],
   "source": [
    "print(classification_report(y_test, model_logreg.predict(X_test)))"
   ]
  },
  {
   "cell_type": "code",
   "execution_count": 17,
   "id": "d97e8121",
   "metadata": {},
   "outputs": [
    {
     "data": {
      "text/plain": [
       "array([[197685, 128471],\n",
       "       [   408,    522]], dtype=int64)"
      ]
     },
     "execution_count": 17,
     "metadata": {},
     "output_type": "execute_result"
    }
   ],
   "source": [
    "confusion_matrix(y_test, model_logreg.predict(X_test))"
   ]
  },
  {
   "cell_type": "code",
   "execution_count": 18,
   "id": "70b1fee5",
   "metadata": {},
   "outputs": [],
   "source": [
    "pred_lr = model_logreg.predict_proba(X_test)[:,1]"
   ]
  },
  {
   "cell_type": "code",
   "execution_count": 19,
   "id": "7c04e040",
   "metadata": {},
   "outputs": [
    {
     "data": {
      "text/plain": [
       "0.6317443005372322"
      ]
     },
     "execution_count": 19,
     "metadata": {},
     "output_type": "execute_result"
    }
   ],
   "source": [
    "roc_auc_score(y_test, pred_lr)"
   ]
  },
  {
   "cell_type": "code",
   "execution_count": 20,
   "id": "874fc123",
   "metadata": {},
   "outputs": [
    {
     "data": {
      "text/plain": [
       "Text(0, 0.5, 'tpr')"
      ]
     },
     "execution_count": 20,
     "metadata": {},
     "output_type": "execute_result"
    },
    {
     "data": {
      "image/png": "[encoded data removed]",
      "text/plain": [
       "<Figure size 640x480 with 1 Axes>"
      ]
     },
     "metadata": {},
     "output_type": "display_data"
    }
   ],
   "source": [
    "fpr, tpr, _ = roc_curve(y_test, pred_lr)\n",
    "\n",
    "plt.plot(fpr, tpr, '-')\n",
    "plt.xlabel('fpr')\n",
    "plt.ylabel('tpr')"
   ]
  },
  {
   "cell_type": "markdown",
   "id": "3ddea31b",
   "metadata": {},
   "source": [
    "#### Многослойный персептрон"
   ]
  },
  {
   "cell_type": "code",
   "execution_count": 57,
   "id": "2aee853a",
   "metadata": {},
   "outputs": [
    {
     "data": {
      "text/plain": [
       "0.6057503718452822"
      ]
     },
     "execution_count": 57,
     "metadata": {},
     "output_type": "execute_result"
    }
   ],
   "source": [
    "model_mlp = MLPClassifier(solver='lbfgs', hidden_layer_sizes=(75,), alpha=1e-5)\n",
    "model_mlp.fit(X_train, y_train)\n",
    "pred_mlp = model_mlp.predict_proba(X_test)[:,1]\n",
    "roc_auc_mlp = roc_auc_score(y_test, pred_mlp)\n",
    "roc_auc_mlp"
   ]
  },
  {
   "cell_type": "code",
   "execution_count": 58,
   "id": "6fbd8418",
   "metadata": {},
   "outputs": [
    {
     "data": {
      "text/plain": [
       "Text(0, 0.5, 'tpr')"
      ]
     },
     "execution_count": 58,
     "metadata": {},
     "output_type": "execute_result"
    },
    {
     "data": {
      "image/png": "[encoded data removed]",
      "text/plain": [
       "<Figure size 640x480 with 1 Axes>"
      ]
     },
     "metadata": {},
     "output_type": "display_data"
    }
   ],
   "source": [
    "fpr, tpr, _ = roc_curve(y_test, pred_mlp)\n",
    "\n",
    "plt.plot(fpr, tpr, '-')\n",
    "plt.xlabel('fpr')\n",
    "plt.ylabel('tpr')"
   ]
  },
  {
   "cell_type": "code",
   "execution_count": 59,
   "id": "d7f87248",
   "metadata": {},
   "outputs": [
    {
     "data": {
      "text/plain": [
       "array([[261132,  65024],\n",
       "       [   640,    290]], dtype=int64)"
      ]
     },
     "execution_count": 59,
     "metadata": {},
     "output_type": "execute_result"
    }
   ],
   "source": [
    "confusion_matrix(y_test, model_mlp.predict(X_test))"
   ]
  },
  {
   "cell_type": "code",
   "execution_count": 60,
   "id": "7f70342d",
   "metadata": {},
   "outputs": [
    {
     "name": "stdout",
     "output_type": "stream",
     "text": [
      "              precision    recall  f1-score   support\n",
      "\n",
      "           0       1.00      0.80      0.89    326156\n",
      "           1       0.00      0.31      0.01       930\n",
      "\n",
      "    accuracy                           0.80    327086\n",
      "   macro avg       0.50      0.56      0.45    327086\n",
      "weighted avg       0.99      0.80      0.89    327086\n",
      "\n"
     ]
    }
   ],
   "source": [
    "print(classification_report(y_test, model_mlp.predict(X_test)))"
   ]
  },
  {
   "cell_type": "markdown",
   "id": "85bb2eb3",
   "metadata": {},
   "source": [
    "#### Случайный лес"
   ]
  },
  {
   "cell_type": "code",
   "execution_count": 61,
   "id": "ec48bad4",
   "metadata": {},
   "outputs": [],
   "source": [
    "model_rf = RandomForestClassifier(max_depth=22, max_features='sqrt',\n",
    "                       n_estimators=50)"
   ]
  },
  {
   "cell_type": "code",
   "execution_count": 62,
   "id": "1d3f7be4",
   "metadata": {},
   "outputs": [
    {
     "data": {
      "text/plain": [
       "RandomForestClassifier(max_depth=22, max_features='sqrt', n_estimators=50)"
      ]
     },
     "execution_count": 62,
     "metadata": {},
     "output_type": "execute_result"
    }
   ],
   "source": [
    "model_rf.fit(X_train, y_train)"
   ]
  },
  {
   "cell_type": "code",
   "execution_count": 63,
   "id": "cb3c82d5",
   "metadata": {},
   "outputs": [],
   "source": [
    "pred_rf = model_rf.predict_proba(X_test)[:,1]"
   ]
  },
  {
   "cell_type": "code",
   "execution_count": 64,
   "id": "cd51d4e8",
   "metadata": {},
   "outputs": [
    {
     "data": {
      "text/plain": [
       "Text(0, 0.5, 'tpr')"
      ]
     },
     "execution_count": 64,
     "metadata": {},
     "output_type": "execute_result"
    },
    {
     "data": {
      "image/png": "[encoded data removed]",
      "text/plain": [
       "<Figure size 640x480 with 1 Axes>"
      ]
     },
     "metadata": {},
     "output_type": "display_data"
    }
   ],
   "source": [
    "fpr, tpr, _ = roc_curve(y_test, pred_rf)\n",
    "\n",
    "plt.plot(fpr, tpr, '-')\n",
    "plt.xlabel('fpr')\n",
    "plt.ylabel('tpr')"
   ]
  },
  {
   "cell_type": "code",
   "execution_count": 65,
   "id": "2725196d",
   "metadata": {},
   "outputs": [
    {
     "data": {
      "text/plain": [
       "0.6121979544190674"
      ]
     },
     "execution_count": 65,
     "metadata": {},
     "output_type": "execute_result"
    }
   ],
   "source": [
    "roc_auc_score(y_test, pred_rf)"
   ]
  },
  {
   "cell_type": "code",
   "execution_count": 66,
   "id": "410cf8a9",
   "metadata": {},
   "outputs": [
    {
     "data": {
      "text/plain": [
       "array([[265500,  60656],\n",
       "       [   629,    301]], dtype=int64)"
      ]
     },
     "execution_count": 66,
     "metadata": {},
     "output_type": "execute_result"
    }
   ],
   "source": [
    "confusion_matrix(y_test, model_rf.predict(X_test))"
   ]
  },
  {
   "cell_type": "code",
   "execution_count": 67,
   "id": "021a3c12",
   "metadata": {},
   "outputs": [
    {
     "name": "stdout",
     "output_type": "stream",
     "text": [
      "              precision    recall  f1-score   support\n",
      "\n",
      "           0       1.00      0.81      0.90    326156\n",
      "           1       0.00      0.32      0.01       930\n",
      "\n",
      "    accuracy                           0.81    327086\n",
      "   macro avg       0.50      0.57      0.45    327086\n",
      "weighted avg       0.99      0.81      0.89    327086\n",
      "\n"
     ]
    }
   ],
   "source": [
    "print(classification_report(y_test, model_rf.predict(X_test)))"
   ]
  },
  {
   "cell_type": "markdown",
   "id": "1e0cce93",
   "metadata": {},
   "source": [
    "С гиперпараметром min_samples_split"
   ]
  },
  {
   "cell_type": "code",
   "execution_count": 49,
   "id": "052414b5",
   "metadata": {},
   "outputs": [],
   "source": [
    "model_rf = RandomForestClassifier(max_depth=22, max_features='sqrt',\n",
    "                       n_estimators=50, min_samples_split=13)"
   ]
  },
  {
   "cell_type": "code",
   "execution_count": 50,
   "id": "2735f422",
   "metadata": {},
   "outputs": [
    {
     "data": {
      "text/plain": [
       "RandomForestClassifier(max_depth=22, max_features='sqrt', min_samples_split=13,\n",
       "                       n_estimators=50)"
      ]
     },
     "execution_count": 50,
     "metadata": {},
     "output_type": "execute_result"
    }
   ],
   "source": [
    "model_rf.fit(X_train, y_train)"
   ]
  },
  {
   "cell_type": "code",
   "execution_count": 51,
   "id": "05f3cecc",
   "metadata": {},
   "outputs": [
    {
     "data": {
      "text/plain": [
       "Text(0, 0.5, 'tpr')"
      ]
     },
     "execution_count": 51,
     "metadata": {},
     "output_type": "execute_result"
    },
    {
     "data": {
      "image/png": "[encoded data removed]",
      "text/plain": [
       "<Figure size 640x480 with 1 Axes>"
      ]
     },
     "metadata": {},
     "output_type": "display_data"
    }
   ],
   "source": [
    "pred_rf = model_rf.predict_proba(X_test)[:,1]\n",
    "\n",
    "fpr, tpr, _ = roc_curve(y_test, pred_rf)\n",
    "\n",
    "plt.plot(fpr, tpr, '-')\n",
    "plt.xlabel('fpr')\n",
    "plt.ylabel('tpr')"
   ]
  },
  {
   "cell_type": "code",
   "execution_count": 52,
   "id": "01a30fa0",
   "metadata": {},
   "outputs": [
    {
     "data": {
      "text/plain": [
       "0.61714187300305"
      ]
     },
     "execution_count": 52,
     "metadata": {},
     "output_type": "execute_result"
    }
   ],
   "source": [
    "roc_auc_score(y_test, pred_rf)"
   ]
  },
  {
   "cell_type": "code",
   "execution_count": 53,
   "id": "f8ce52f7",
   "metadata": {},
   "outputs": [
    {
     "data": {
      "text/plain": [
       "array([[263279,  62877],\n",
       "       [   627,    303]], dtype=int64)"
      ]
     },
     "execution_count": 53,
     "metadata": {},
     "output_type": "execute_result"
    }
   ],
   "source": [
    "confusion_matrix(y_test, model_rf.predict(X_test))"
   ]
  },
  {
   "cell_type": "code",
   "execution_count": 54,
   "id": "7851af6a",
   "metadata": {},
   "outputs": [
    {
     "name": "stdout",
     "output_type": "stream",
     "text": [
      "              precision    recall  f1-score   support\n",
      "\n",
      "           0       1.00      0.81      0.89    326156\n",
      "           1       0.00      0.33      0.01       930\n",
      "\n",
      "    accuracy                           0.81    327086\n",
      "   macro avg       0.50      0.57      0.45    327086\n",
      "weighted avg       0.99      0.81      0.89    327086\n",
      "\n"
     ]
    }
   ],
   "source": [
    "print(classification_report(y_test, model_rf.predict(X_test)))"
   ]
  },
  {
   "cell_type": "markdown",
   "id": "f8682ae1",
   "metadata": {},
   "source": [
    "## Вывод"
   ]
  },
  {
   "cell_type": "markdown",
   "id": "8d6aec62",
   "metadata": {},
   "source": [
    "Среди моделей логистическая регрессия, многослойный персептрон и деревья решений лучшей считаю модель случайный лес с показателями recall для класса 0 = 0.81 и для класса 1 = 0.33. Для логистической регрессии значение roc_auc выше, но количество ошибок для класса 0 значительно выше для для модели случайного леса."
   ]
  },
  {
   "cell_type": "code",
   "execution_count": null,
   "id": "3ffcf288",
   "metadata": {},
   "outputs": [],
   "source": []
  }
 ],
 "metadata": {
  "kernelspec": {
   "display_name": "Python 3 (ipykernel)",
   "language": "python",
   "name": "python3"
  },
  "language_info": {
   "codemirror_mode": {
    "name": "ipython",
    "version": 3
   },
   "file_extension": ".py",
   "mimetype": "text/x-python",
   "name": "python",
   "nbconvert_exporter": "python",
   "pygments_lexer": "ipython3",
   "version": "3.9.13"
  }
 },
 "nbformat": 4,
 "nbformat_minor": 5
}
